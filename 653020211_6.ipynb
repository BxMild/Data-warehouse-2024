{
  "cells": [
    {
      "cell_type": "markdown",
      "metadata": {
        "id": "view-in-github",
        "colab_type": "text"
      },
      "source": [
        "<a href=\"https://colab.research.google.com/github/BxMild/Data-warehouse-2024/blob/main/653020211_6.ipynb\" target=\"_parent\"><img src=\"https://colab.research.google.com/assets/colab-badge.svg\" alt=\"Open In Colab\"/></a>"
      ]
    },
    {
      "cell_type": "markdown",
      "metadata": {
        "id": "6nrVSV7DA2n5"
      },
      "source": [
        "# **Data Warehouse**"
      ]
    },
    {
      "cell_type": "markdown",
      "metadata": {
        "id": "aUHylqP3A2n7"
      },
      "source": [
        "ปีย์รดา ภู่ถนนนอก 653020211-6"
      ]
    },
    {
      "cell_type": "code",
      "execution_count": null,
      "metadata": {
        "id": "SFwhrBQwA2n8"
      },
      "outputs": [],
      "source": [
        "import polars as pl\n",
        "import pandas as pd\n",
        "import duckdb as dd\n",
        "from datetime import datetime\n",
        "import dlt"
      ]
    },
    {
      "cell_type": "markdown",
      "metadata": {
        "id": "kYvV8zyWA2n9"
      },
      "source": [
        "# Pipeline"
      ]
    },
    {
      "cell_type": "code",
      "execution_count": null,
      "metadata": {
        "id": "NhgpedScA2n9"
      },
      "outputs": [],
      "source": [
        "pipeline = dlt.pipeline(pipeline_name=\"load_northwind\", destination='duckdb',dataset_name=\"stg_northwind\")\n",
        "pipeline.run()"
      ]
    },
    {
      "cell_type": "markdown",
      "metadata": {
        "id": "HeOhvP_lA2n9"
      },
      "source": [
        "# Data transformation, Staging area load, multidimensional data model for data warehouse."
      ]
    },
    {
      "cell_type": "markdown",
      "metadata": {
        "id": "3uhzZu6-A2n-"
      },
      "source": [
        "Given northwind databased diagram as:"
      ]
    },
    {
      "cell_type": "markdown",
      "metadata": {
        "id": "3Z40z8QuA2n-"
      },
      "source": [
        "<img src=\"./figs/nortwind_diagram.jpg\" alt=\"alt text\" width=\"width\" height=\"height\">"
      ]
    },
    {
      "cell_type": "markdown",
      "metadata": {
        "id": "UAlPKiO4A2n-"
      },
      "source": [
        "We need to create data cube like this:\n"
      ]
    },
    {
      "cell_type": "markdown",
      "metadata": {
        "id": "j3U0tWMuA2n-"
      },
      "source": [
        "<img src=\"./figs/data_cube_diagram.jpg\" alt=\"alt text\" width=\"700\" height=\"700\">"
      ]
    },
    {
      "cell_type": "code",
      "execution_count": null,
      "metadata": {
        "id": "McylO-m6A2n-"
      },
      "outputs": [],
      "source": [
        "from datetime import datetime\n",
        "import polars as pl\n",
        "\n",
        "def add_timestamp(df,colname):\n",
        "    now = datetime.now()\n",
        "    current_timestamp = now.strftime('%m/%d/%y %H/%M/%S')\n",
        "    df_cus = df.with_columns(pl.lit(current_timestamp).alias(colname))\n",
        "    return df\n",
        "\n",
        "def change_dtypedatetime(df,colname):\n",
        "    format = '%m/%d/%Y %H:%M:%S'\n",
        "    return df.with_columns(\n",
        "        pl.col(colname).str.strptime(pl.Date,format=format)\n",
        "    )\n",
        "\n",
        "def unique(df,colname):\n",
        "    return df.unique(colname)\n",
        "\n",
        "def sort(df,colname):\n",
        "    return df.sort(by=colname)\n",
        "\n",
        "def rename_col(df,colname_dict):\n",
        "    return df.rename(colname_dict)\n",
        "\n",
        "def exclude(df,colname):\n",
        "    return df.select(pl.col('*').exclude(colname))"
      ]
    },
    {
      "cell_type": "markdown",
      "metadata": {
        "id": "_IGLaZAwA2n-"
      },
      "source": [
        "## customer dimension table."
      ]
    },
    {
      "cell_type": "markdown",
      "metadata": {
        "id": "xYF4wyFQA2n_"
      },
      "source": [
        "1. Read customer table from `customer.csv` file.\n",
        "\n",
        "2. Create timstamp column with column name `ingestion_timestamp` and name table as `stg_customer`, and load data into `stg_northwind` database.\n",
        "\n",
        "3. Transform data as follows:\n",
        "    - Sort by `id` and get unique `id`.\n",
        "    - Rename `id` columns to `customer_id`.\n",
        "    - Delete an `ingestion_timestamp` column and add timstamp column with column name `insertion_timestamp`.\n"
      ]
    },
    {
      "cell_type": "code",
      "execution_count": null,
      "metadata": {
        "id": "4geAYDkbA2n_"
      },
      "outputs": [],
      "source": [
        "df_customers = pl.read_csv(\"./data/northwind/customer.csv\")"
      ]
    },
    {
      "cell_type": "code",
      "execution_count": null,
      "metadata": {
        "id": "Oib9czjAA2n_",
        "outputId": "b0b5cd12-ae34-4e07-ee84-20edfae254a2"
      },
      "outputs": [
        {
          "data": {
            "text/html": [
              "<div><style>\n",
              ".dataframe > thead > tr,\n",
              ".dataframe > tbody > tr {\n",
              "  text-align: right;\n",
              "  white-space: pre-wrap;\n",
              "}\n",
              "</style>\n",
              "<small>shape: (5, 18)</small><table border=\"1\" class=\"dataframe\"><thead><tr><th>customer_id</th><th>company</th><th>last_name</th><th>first_name</th><th>email_address</th><th>job_title</th><th>business_phone</th><th>home_phone</th><th>mobile_phone</th><th>fax_number</th><th>address</th><th>city</th><th>state_province</th><th>zip_postal_code</th><th>country_region</th><th>web_page</th><th>notes</th><th>attachments</th></tr><tr><td>i64</td><td>str</td><td>str</td><td>str</td><td>str</td><td>str</td><td>str</td><td>str</td><td>str</td><td>str</td><td>str</td><td>str</td><td>str</td><td>i64</td><td>str</td><td>str</td><td>str</td><td>str</td></tr></thead><tbody><tr><td>1</td><td>&quot;Company A&quot;</td><td>&quot;Bedecs&quot;</td><td>&quot;Anna&quot;</td><td>null</td><td>&quot;Owner&quot;</td><td>&quot;(123)555-0100&quot;</td><td>null</td><td>null</td><td>&quot;(123)555-0101&quot;</td><td>&quot;123 1st Street&quot;</td><td>&quot;Seattle&quot;</td><td>&quot;WA&quot;</td><td>99999</td><td>&quot;USA&quot;</td><td>null</td><td>null</td><td>null</td></tr><tr><td>2</td><td>&quot;Company B&quot;</td><td>&quot;Gratacos Solsona&quot;</td><td>&quot;Antonio&quot;</td><td>null</td><td>&quot;Owner&quot;</td><td>&quot;(123)555-0100&quot;</td><td>null</td><td>null</td><td>&quot;(123)555-0101&quot;</td><td>&quot;123 2nd Street&quot;</td><td>&quot;Boston&quot;</td><td>&quot;MA&quot;</td><td>99999</td><td>&quot;USA&quot;</td><td>null</td><td>null</td><td>null</td></tr><tr><td>3</td><td>&quot;Company C&quot;</td><td>&quot;Axen&quot;</td><td>&quot;Thomas&quot;</td><td>null</td><td>&quot;Purchasing Representative&quot;</td><td>&quot;(123)555-0100&quot;</td><td>null</td><td>null</td><td>&quot;(123)555-0101&quot;</td><td>&quot;123 3rd Street&quot;</td><td>&quot;Los Angelas&quot;</td><td>&quot;CA&quot;</td><td>99999</td><td>&quot;USA&quot;</td><td>null</td><td>null</td><td>null</td></tr><tr><td>4</td><td>&quot;Company D&quot;</td><td>&quot;Lee&quot;</td><td>&quot;Christina&quot;</td><td>null</td><td>&quot;Purchasing Manager&quot;</td><td>&quot;(123)555-0100&quot;</td><td>null</td><td>null</td><td>&quot;(123)555-0101&quot;</td><td>&quot;123 4th Street&quot;</td><td>&quot;New York&quot;</td><td>&quot;NY&quot;</td><td>99999</td><td>&quot;USA&quot;</td><td>null</td><td>null</td><td>null</td></tr><tr><td>5</td><td>&quot;Company E&quot;</td><td>&quot;O’Donnell&quot;</td><td>&quot;Martin&quot;</td><td>null</td><td>&quot;Owner&quot;</td><td>&quot;(123)555-0100&quot;</td><td>null</td><td>null</td><td>&quot;(123)555-0101&quot;</td><td>&quot;123 5th Street&quot;</td><td>&quot;Minneapolis&quot;</td><td>&quot;MN&quot;</td><td>99999</td><td>&quot;USA&quot;</td><td>null</td><td>null</td><td>null</td></tr></tbody></table></div>"
            ],
            "text/plain": [
              "shape: (5, 18)\n",
              "┌────────────┬───────────┬────────────┬────────────┬───┬────────────┬──────────┬───────┬───────────┐\n",
              "│ customer_i ┆ company   ┆ last_name  ┆ first_name ┆ … ┆ country_re ┆ web_page ┆ notes ┆ attachmen │\n",
              "│ d          ┆ ---       ┆ ---        ┆ ---        ┆   ┆ gion       ┆ ---      ┆ ---   ┆ ts        │\n",
              "│ ---        ┆ str       ┆ str        ┆ str        ┆   ┆ ---        ┆ str      ┆ str   ┆ ---       │\n",
              "│ i64        ┆           ┆            ┆            ┆   ┆ str        ┆          ┆       ┆ str       │\n",
              "╞════════════╪═══════════╪════════════╪════════════╪═══╪════════════╪══════════╪═══════╪═══════════╡\n",
              "│ 1          ┆ Company A ┆ Bedecs     ┆ Anna       ┆ … ┆ USA        ┆ null     ┆ null  ┆ null      │\n",
              "│ 2          ┆ Company B ┆ Gratacos   ┆ Antonio    ┆ … ┆ USA        ┆ null     ┆ null  ┆ null      │\n",
              "│            ┆           ┆ Solsona    ┆            ┆   ┆            ┆          ┆       ┆           │\n",
              "│ 3          ┆ Company C ┆ Axen       ┆ Thomas     ┆ … ┆ USA        ┆ null     ┆ null  ┆ null      │\n",
              "│ 4          ┆ Company D ┆ Lee        ┆ Christina  ┆ … ┆ USA        ┆ null     ┆ null  ┆ null      │\n",
              "│ 5          ┆ Company E ┆ O’Donnell  ┆ Martin     ┆ … ┆ USA        ┆ null     ┆ null  ┆ null      │\n",
              "└────────────┴───────────┴────────────┴────────────┴───┴────────────┴──────────┴───────┴───────────┘"
            ]
          },
          "execution_count": 5,
          "metadata": {},
          "output_type": "execute_result"
        }
      ],
      "source": [
        "stg_customer = (df_customers\n",
        "                .pipe(add_timestamp, 'insertion_timestamp')\n",
        "                .pipe(unique, 'id')\n",
        "                .pipe(sort, 'id')\n",
        "                .pipe(rename_col, {'id': 'customer_id'})\n",
        "               )\n",
        "stg_customer.head()"
      ]
    },
    {
      "cell_type": "code",
      "execution_count": null,
      "metadata": {
        "id": "JR8fwMGPA2n_",
        "outputId": "ce78f525-dea6-412b-f514-0b09aefdb16a"
      },
      "outputs": [
        {
          "data": {
            "text/plain": [
              "LoadInfo(pipeline=<dlt.pipeline.pipeline.Pipeline object at 0x0000015202725810>, metrics={'1729340364.5035021': [{'started_at': DateTime(2024, 10, 19, 12, 19, 25, 161505, tzinfo=Timezone('UTC')), 'finished_at': DateTime(2024, 10, 19, 12, 19, 25, 606454, tzinfo=Timezone('UTC'))}]}, destination_type='dlt.destinations.duckdb', destination_displayable_credentials='duckdb:///d:\\\\DW_Pipline-Main\\\\load_northwind.duckdb', destination_name='duckdb', environment=None, staging_type=None, staging_name=None, staging_displayable_credentials=None, destination_fingerprint='', dataset_name='stg_northwind', loads_ids=['1729340364.5035021'], load_packages=[LoadPackageInfo(load_id='1729340364.5035021', package_path='C:\\\\Users\\\\Admin\\\\.dlt\\\\pipelines\\\\load_northwind\\\\load\\\\loaded\\\\1729340364.5035021', state='loaded', schema=Schema load_northwind at 1451774886160, schema_update={}, completed_at=DateTime(2024, 10, 19, 12, 19, 25, 569619, tzinfo=Timezone('UTC')), jobs={'new_jobs': [], 'completed_jobs': [LoadJobInfo(state='completed_jobs', file_path='C:\\\\Users\\\\Admin\\\\.dlt\\\\pipelines\\\\load_northwind\\\\load\\\\loaded\\\\1729340364.5035021\\\\completed_jobs\\\\stg_customer.430b4ac8d7.0.parquet', file_size=6236, created_at=DateTime(2024, 10, 19, 12, 19, 24, 572932, tzinfo=Timezone('UTC')), elapsed=0.9966874122619629, job_file_info=ParsedLoadJobFileName(table_name='stg_customer', file_id='430b4ac8d7', retry_count=0, file_format='parquet'), failed_message=None)], 'failed_jobs': [], 'started_jobs': []})], first_run=False)"
            ]
          },
          "execution_count": 6,
          "metadata": {},
          "output_type": "execute_result"
        }
      ],
      "source": [
        "pipeline.run(stg_customer.to_pandas(), table_name='stg_customer', write_disposition='replace')"
      ]
    },
    {
      "cell_type": "markdown",
      "metadata": {
        "id": "UclGaLkcA2oA"
      },
      "source": [
        "---"
      ]
    },
    {
      "cell_type": "markdown",
      "metadata": {
        "id": "XtZtHdtEA2oA"
      },
      "source": [
        "## Employee dimension table."
      ]
    },
    {
      "cell_type": "markdown",
      "metadata": {
        "id": "V7JImArnA2oA"
      },
      "source": [
        "1. Read employee table from `employees.csv` file.\n",
        "\n",
        "2. Create timstamp column with column name `ingestion_timestamp` and name table as `stg_employee`, and load data into `stg_northwind` database.\n",
        "\n",
        "3. Transform data as follows:\n",
        "    - Sort by `id` and get unique `id`.\n",
        "    - Rename `id` columns to `employee_id`.\n",
        "    - Delete an `ingestion_timestamp` column and add timstamp column with column name `insertion_timestamp`.\n"
      ]
    },
    {
      "cell_type": "code",
      "execution_count": null,
      "metadata": {
        "id": "KzYNZlOUA2oA"
      },
      "outputs": [],
      "source": [
        "df_employees = pl.read_csv(\"./data/northwind/employees.csv\")"
      ]
    },
    {
      "cell_type": "code",
      "execution_count": null,
      "metadata": {
        "id": "j81_7iWvA2oA",
        "outputId": "119956e0-3116-485c-f10d-0793c3e518b9"
      },
      "outputs": [
        {
          "data": {
            "text/html": [
              "<div><style>\n",
              ".dataframe > thead > tr,\n",
              ".dataframe > tbody > tr {\n",
              "  text-align: right;\n",
              "  white-space: pre-wrap;\n",
              "}\n",
              "</style>\n",
              "<small>shape: (5, 18)</small><table border=\"1\" class=\"dataframe\"><thead><tr><th>employee_id</th><th>company</th><th>last_name</th><th>first_name</th><th>email_address</th><th>job_title</th><th>business_phone</th><th>home_phone</th><th>mobile_phone</th><th>fax_number</th><th>address</th><th>city</th><th>state_province</th><th>zip_postal_code</th><th>country_region</th><th>web_page</th><th>notes</th><th>attachments</th></tr><tr><td>i64</td><td>str</td><td>str</td><td>str</td><td>str</td><td>str</td><td>str</td><td>str</td><td>str</td><td>str</td><td>str</td><td>str</td><td>str</td><td>i64</td><td>str</td><td>str</td><td>str</td><td>str</td></tr></thead><tbody><tr><td>1</td><td>&quot;Northwind Traders&quot;</td><td>&quot;Freehafer&quot;</td><td>&quot;Nancy&quot;</td><td>&quot;nancy@northwindtraders.com&quot;</td><td>&quot;Sales Representative&quot;</td><td>&quot;(123)555-0100&quot;</td><td>&quot;(123)555-0102&quot;</td><td>null</td><td>&quot;(123)555-0103&quot;</td><td>&quot;123 1st Avenue&quot;</td><td>&quot;Seattle&quot;</td><td>&quot;WA&quot;</td><td>99999</td><td>&quot;USA&quot;</td><td>&quot;#http://northwindtraders.com#&quot;</td><td>null</td><td>null</td></tr><tr><td>2</td><td>&quot;Northwind Traders&quot;</td><td>&quot;Cencini&quot;</td><td>&quot;Andrew&quot;</td><td>&quot;andrew@northwindtraders.com&quot;</td><td>&quot;Vice President, Sales&quot;</td><td>&quot;(123)555-0100&quot;</td><td>&quot;(123)555-0102&quot;</td><td>null</td><td>&quot;(123)555-0103&quot;</td><td>&quot;123 2nd Avenue&quot;</td><td>&quot;Bellevue&quot;</td><td>&quot;WA&quot;</td><td>99999</td><td>&quot;USA&quot;</td><td>&quot;http://northwindtraders.com#ht…</td><td>&quot;Joined the company as a sales …</td><td>null</td></tr><tr><td>3</td><td>&quot;Northwind Traders&quot;</td><td>&quot;Kotas&quot;</td><td>&quot;Jan&quot;</td><td>&quot;jan@northwindtraders.com&quot;</td><td>&quot;Sales Representative&quot;</td><td>&quot;(123)555-0100&quot;</td><td>&quot;(123)555-0102&quot;</td><td>null</td><td>&quot;(123)555-0103&quot;</td><td>&quot;123 3rd Avenue&quot;</td><td>&quot;Redmond&quot;</td><td>&quot;WA&quot;</td><td>99999</td><td>&quot;USA&quot;</td><td>&quot;http://northwindtraders.com#ht…</td><td>&quot;Was hired as a sales associate…</td><td>null</td></tr><tr><td>4</td><td>&quot;Northwind Traders&quot;</td><td>&quot;Sergienko&quot;</td><td>&quot;Mariya&quot;</td><td>&quot;mariya@northwindtraders.com&quot;</td><td>&quot;Sales Representative&quot;</td><td>&quot;(123)555-0100&quot;</td><td>&quot;(123)555-0102&quot;</td><td>null</td><td>&quot;(123)555-0103&quot;</td><td>&quot;123 4th Avenue&quot;</td><td>&quot;Kirkland&quot;</td><td>&quot;WA&quot;</td><td>99999</td><td>&quot;USA&quot;</td><td>&quot;http://northwindtraders.com#ht…</td><td>null</td><td>null</td></tr><tr><td>5</td><td>&quot;Northwind Traders&quot;</td><td>&quot;Thorpe&quot;</td><td>&quot;Steven&quot;</td><td>&quot;steven@northwindtraders.com&quot;</td><td>&quot;Sales Manager&quot;</td><td>&quot;(123)555-0100&quot;</td><td>&quot;(123)555-0102&quot;</td><td>null</td><td>&quot;(123)555-0103&quot;</td><td>&quot;123 5th Avenue&quot;</td><td>&quot;Seattle&quot;</td><td>&quot;WA&quot;</td><td>99999</td><td>&quot;USA&quot;</td><td>&quot;http://northwindtraders.com#ht…</td><td>&quot;Joined the company as a sales …</td><td>null</td></tr></tbody></table></div>"
            ],
            "text/plain": [
              "shape: (5, 18)\n",
              "┌───────────┬───────────┬───────────┬───────────┬───┬───────────┬───────────┬───────────┬──────────┐\n",
              "│ employee_ ┆ company   ┆ last_name ┆ first_nam ┆ … ┆ country_r ┆ web_page  ┆ notes     ┆ attachme │\n",
              "│ id        ┆ ---       ┆ ---       ┆ e         ┆   ┆ egion     ┆ ---       ┆ ---       ┆ nts      │\n",
              "│ ---       ┆ str       ┆ str       ┆ ---       ┆   ┆ ---       ┆ str       ┆ str       ┆ ---      │\n",
              "│ i64       ┆           ┆           ┆ str       ┆   ┆ str       ┆           ┆           ┆ str      │\n",
              "╞═══════════╪═══════════╪═══════════╪═══════════╪═══╪═══════════╪═══════════╪═══════════╪══════════╡\n",
              "│ 1         ┆ Northwind ┆ Freehafer ┆ Nancy     ┆ … ┆ USA       ┆ #http://n ┆ null      ┆ null     │\n",
              "│           ┆ Traders   ┆           ┆           ┆   ┆           ┆ orthwindt ┆           ┆          │\n",
              "│           ┆           ┆           ┆           ┆   ┆           ┆ raders.co ┆           ┆          │\n",
              "│           ┆           ┆           ┆           ┆   ┆           ┆ m#        ┆           ┆          │\n",
              "│ 2         ┆ Northwind ┆ Cencini   ┆ Andrew    ┆ … ┆ USA       ┆ http://no ┆ Joined    ┆ null     │\n",
              "│           ┆ Traders   ┆           ┆           ┆   ┆           ┆ rthwindtr ┆ the       ┆          │\n",
              "│           ┆           ┆           ┆           ┆   ┆           ┆ aders.com ┆ company   ┆          │\n",
              "│           ┆           ┆           ┆           ┆   ┆           ┆ #ht…      ┆ as a      ┆          │\n",
              "│           ┆           ┆           ┆           ┆   ┆           ┆           ┆ sales …   ┆          │\n",
              "│ 3         ┆ Northwind ┆ Kotas     ┆ Jan       ┆ … ┆ USA       ┆ http://no ┆ Was hired ┆ null     │\n",
              "│           ┆ Traders   ┆           ┆           ┆   ┆           ┆ rthwindtr ┆ as a      ┆          │\n",
              "│           ┆           ┆           ┆           ┆   ┆           ┆ aders.com ┆ sales ass ┆          │\n",
              "│           ┆           ┆           ┆           ┆   ┆           ┆ #ht…      ┆ ociate…   ┆          │\n",
              "│ 4         ┆ Northwind ┆ Sergienko ┆ Mariya    ┆ … ┆ USA       ┆ http://no ┆ null      ┆ null     │\n",
              "│           ┆ Traders   ┆           ┆           ┆   ┆           ┆ rthwindtr ┆           ┆          │\n",
              "│           ┆           ┆           ┆           ┆   ┆           ┆ aders.com ┆           ┆          │\n",
              "│           ┆           ┆           ┆           ┆   ┆           ┆ #ht…      ┆           ┆          │\n",
              "│ 5         ┆ Northwind ┆ Thorpe    ┆ Steven    ┆ … ┆ USA       ┆ http://no ┆ Joined    ┆ null     │\n",
              "│           ┆ Traders   ┆           ┆           ┆   ┆           ┆ rthwindtr ┆ the       ┆          │\n",
              "│           ┆           ┆           ┆           ┆   ┆           ┆ aders.com ┆ company   ┆          │\n",
              "│           ┆           ┆           ┆           ┆   ┆           ┆ #ht…      ┆ as a      ┆          │\n",
              "│           ┆           ┆           ┆           ┆   ┆           ┆           ┆ sales …   ┆          │\n",
              "└───────────┴───────────┴───────────┴───────────┴───┴───────────┴───────────┴───────────┴──────────┘"
            ]
          },
          "execution_count": 8,
          "metadata": {},
          "output_type": "execute_result"
        }
      ],
      "source": [
        "stg_employee=(df_employees\n",
        "              .pipe(add_timestamp, 'insertion_timestamp')\n",
        "              .pipe(unique, 'id')\n",
        "              .pipe(sort, 'id')\n",
        "              .pipe(rename_col, {'id': 'employee_id'})\n",
        "               )\n",
        "stg_employee.head()"
      ]
    },
    {
      "cell_type": "code",
      "execution_count": null,
      "metadata": {
        "id": "NBs0jWUAA2oA",
        "outputId": "1396bd2e-e87b-49b0-9230-4cc590bcc530"
      },
      "outputs": [
        {
          "data": {
            "text/plain": [
              "LoadInfo(pipeline=<dlt.pipeline.pipeline.Pipeline object at 0x0000015202725810>, metrics={'1729340365.747456': [{'started_at': DateTime(2024, 10, 19, 12, 19, 26, 387297, tzinfo=Timezone('UTC')), 'finished_at': DateTime(2024, 10, 19, 12, 19, 26, 801815, tzinfo=Timezone('UTC'))}]}, destination_type='dlt.destinations.duckdb', destination_displayable_credentials='duckdb:///d:\\\\DW_Pipline-Main\\\\load_northwind.duckdb', destination_name='duckdb', environment=None, staging_type=None, staging_name=None, staging_displayable_credentials=None, destination_fingerprint='', dataset_name='stg_northwind', loads_ids=['1729340365.747456'], load_packages=[LoadPackageInfo(load_id='1729340365.747456', package_path='C:\\\\Users\\\\Admin\\\\.dlt\\\\pipelines\\\\load_northwind\\\\load\\\\loaded\\\\1729340365.747456', state='loaded', schema=Schema load_northwind at 1451792143440, schema_update={}, completed_at=DateTime(2024, 10, 19, 12, 19, 26, 764792, tzinfo=Timezone('UTC')), jobs={'new_jobs': [], 'completed_jobs': [LoadJobInfo(state='completed_jobs', file_path='C:\\\\Users\\\\Admin\\\\.dlt\\\\pipelines\\\\load_northwind\\\\load\\\\loaded\\\\1729340365.747456\\\\completed_jobs\\\\stg_employee.80fecff16f.0.parquet', file_size=7546, created_at=DateTime(2024, 10, 19, 12, 19, 25, 787789, tzinfo=Timezone('UTC')), elapsed=0.9770030975341797, job_file_info=ParsedLoadJobFileName(table_name='stg_employee', file_id='80fecff16f', retry_count=0, file_format='parquet'), failed_message=None)], 'failed_jobs': [], 'started_jobs': []})], first_run=False)"
            ]
          },
          "execution_count": 9,
          "metadata": {},
          "output_type": "execute_result"
        }
      ],
      "source": [
        "pipeline.run(stg_employee.to_pandas(), table_name='stg_employee', write_disposition='replace')"
      ]
    },
    {
      "cell_type": "markdown",
      "metadata": {
        "id": "T9kIfxbfA2oB"
      },
      "source": [
        "---"
      ]
    },
    {
      "cell_type": "markdown",
      "metadata": {
        "id": "WTuHnt6FA2oB"
      },
      "source": [
        "## production dimension table."
      ]
    },
    {
      "cell_type": "markdown",
      "metadata": {
        "id": "j2eSJObRA2oB"
      },
      "source": [
        "1. Read product table from `products.csv` file.\n",
        "\n",
        "2. Transform data as follows:\n",
        "    - Filter out records with `supplier_ids` containing ';'.\n",
        "    - Change the column type of `supplier_ids` column to `pl.Int64`.\n",
        "    - Rename `supplier_ids` columns to `supplier_id`.\n",
        "    - Rename `id` columns to `product_id`.\n",
        "    - Create timstamp column with column name `ingestion_timestamp` and name table as `stg_product`, and load data into `stg_northwind` database.  \n",
        "\n",
        "3. Read suppliers table from `suppliers.csv` file.\n",
        "\n",
        "4. Create timstamp column with column name `ingestion_timestamp`, rename `id` to `supplier_id`, and name table as `stg_supplier`, and load data into `stg_northwind` database.\n",
        "\n",
        "5. Transform data as follows:\n",
        "    - Perform left join of `stg_product` table and the temporary table containing ['supplier_id','company'] obtained from `stg_supplier` table.\n",
        "    - Select all columns exclude `supplier_id`.\n",
        "    - get unique `product_id`.\n",
        "    - Delete an `ingestion_timestamp` column and add timstamp column with column name `insertion_timestamp`.\n",
        "    - Name the result table `dim_product`."
      ]
    },
    {
      "cell_type": "code",
      "execution_count": null,
      "metadata": {
        "id": "KvVzn7JPA2oB"
      },
      "outputs": [],
      "source": [
        "df_products = pl.read_csv(\"./data/northwind/products.csv\")"
      ]
    },
    {
      "cell_type": "code",
      "execution_count": null,
      "metadata": {
        "id": "ruPYplcOA2oB",
        "outputId": "fbaea0a2-7dbd-403a-c7e6-0ac8502f5ba0"
      },
      "outputs": [
        {
          "data": {
            "text/html": [
              "<div><style>\n",
              ".dataframe > thead > tr,\n",
              ".dataframe > tbody > tr {\n",
              "  text-align: right;\n",
              "  white-space: pre-wrap;\n",
              "}\n",
              "</style>\n",
              "<small>shape: (5, 14)</small><table border=\"1\" class=\"dataframe\"><thead><tr><th>supplier_id</th><th>product_id</th><th>product_code</th><th>product_name</th><th>description</th><th>standard_cost</th><th>list_price</th><th>reorder_level</th><th>target_level</th><th>quantity_per_unit</th><th>discontinued</th><th>minimum_reorder_quantity</th><th>category</th><th>attachments</th></tr><tr><td>i64</td><td>i64</td><td>str</td><td>str</td><td>str</td><td>f64</td><td>f64</td><td>i64</td><td>i64</td><td>str</td><td>i64</td><td>i64</td><td>str</td><td>str</td></tr></thead><tbody><tr><td>1</td><td>19</td><td>&quot;NWTBGM-19&quot;</td><td>&quot;Northwind Traders Chocolate Bi…</td><td>null</td><td>6.9</td><td>9.2</td><td>5</td><td>20</td><td>&quot;10 boxes x 12 pieces&quot;</td><td>0</td><td>5</td><td>&quot;Baked Goods &amp; Mixes&quot;</td><td>null</td></tr><tr><td>1</td><td>21</td><td>&quot;NWTBGM-21&quot;</td><td>&quot;Northwind Traders Scones&quot;</td><td>null</td><td>7.5</td><td>10.0</td><td>5</td><td>20</td><td>&quot;24 pkgs. x 4 pieces&quot;</td><td>0</td><td>5</td><td>&quot;Baked Goods &amp; Mixes&quot;</td><td>null</td></tr><tr><td>6</td><td>91</td><td>&quot;NWTCFV-91&quot;</td><td>&quot;Northwind Traders Cherry Pie F…</td><td>null</td><td>1.0</td><td>2.0</td><td>10</td><td>40</td><td>&quot;15.25 OZ&quot;</td><td>0</td><td>null</td><td>&quot;Canned Fruit &amp; Vegetables&quot;</td><td>null</td></tr><tr><td>6</td><td>90</td><td>&quot;NWTCFV-90&quot;</td><td>&quot;Northwind Traders Pineapple&quot;</td><td>null</td><td>1.0</td><td>1.8</td><td>10</td><td>40</td><td>&quot;15.25 OZ&quot;</td><td>0</td><td>null</td><td>&quot;Canned Fruit &amp; Vegetables&quot;</td><td>null</td></tr><tr><td>6</td><td>88</td><td>&quot;NWTCFV-88&quot;</td><td>&quot;Northwind Traders Pears&quot;</td><td>null</td><td>1.0</td><td>1.3</td><td>10</td><td>40</td><td>&quot;15.25 OZ&quot;</td><td>0</td><td>null</td><td>&quot;Canned Fruit &amp; Vegetables&quot;</td><td>null</td></tr></tbody></table></div>"
            ],
            "text/plain": [
              "shape: (5, 14)\n",
              "┌───────────┬───────────┬───────────┬───────────┬───┬───────────┬───────────┬───────────┬──────────┐\n",
              "│ supplier_ ┆ product_i ┆ product_c ┆ product_n ┆ … ┆ discontin ┆ minimum_r ┆ category  ┆ attachme │\n",
              "│ id        ┆ d         ┆ ode       ┆ ame       ┆   ┆ ued       ┆ eorder_qu ┆ ---       ┆ nts      │\n",
              "│ ---       ┆ ---       ┆ ---       ┆ ---       ┆   ┆ ---       ┆ antity    ┆ str       ┆ ---      │\n",
              "│ i64       ┆ i64       ┆ str       ┆ str       ┆   ┆ i64       ┆ ---       ┆           ┆ str      │\n",
              "│           ┆           ┆           ┆           ┆   ┆           ┆ i64       ┆           ┆          │\n",
              "╞═══════════╪═══════════╪═══════════╪═══════════╪═══╪═══════════╪═══════════╪═══════════╪══════════╡\n",
              "│ 1         ┆ 19        ┆ NWTBGM-19 ┆ Northwind ┆ … ┆ 0         ┆ 5         ┆ Baked     ┆ null     │\n",
              "│           ┆           ┆           ┆ Traders   ┆   ┆           ┆           ┆ Goods &   ┆          │\n",
              "│           ┆           ┆           ┆ Chocolate ┆   ┆           ┆           ┆ Mixes     ┆          │\n",
              "│           ┆           ┆           ┆ Bi…       ┆   ┆           ┆           ┆           ┆          │\n",
              "│ 1         ┆ 21        ┆ NWTBGM-21 ┆ Northwind ┆ … ┆ 0         ┆ 5         ┆ Baked     ┆ null     │\n",
              "│           ┆           ┆           ┆ Traders   ┆   ┆           ┆           ┆ Goods &   ┆          │\n",
              "│           ┆           ┆           ┆ Scones    ┆   ┆           ┆           ┆ Mixes     ┆          │\n",
              "│ 6         ┆ 91        ┆ NWTCFV-91 ┆ Northwind ┆ … ┆ 0         ┆ null      ┆ Canned    ┆ null     │\n",
              "│           ┆           ┆           ┆ Traders   ┆   ┆           ┆           ┆ Fruit &   ┆          │\n",
              "│           ┆           ┆           ┆ Cherry    ┆   ┆           ┆           ┆ Vegetable ┆          │\n",
              "│           ┆           ┆           ┆ Pie F…    ┆   ┆           ┆           ┆ s         ┆          │\n",
              "│ 6         ┆ 90        ┆ NWTCFV-90 ┆ Northwind ┆ … ┆ 0         ┆ null      ┆ Canned    ┆ null     │\n",
              "│           ┆           ┆           ┆ Traders   ┆   ┆           ┆           ┆ Fruit &   ┆          │\n",
              "│           ┆           ┆           ┆ Pineapple ┆   ┆           ┆           ┆ Vegetable ┆          │\n",
              "│           ┆           ┆           ┆           ┆   ┆           ┆           ┆ s         ┆          │\n",
              "│ 6         ┆ 88        ┆ NWTCFV-88 ┆ Northwind ┆ … ┆ 0         ┆ null      ┆ Canned    ┆ null     │\n",
              "│           ┆           ┆           ┆ Traders   ┆   ┆           ┆           ┆ Fruit &   ┆          │\n",
              "│           ┆           ┆           ┆ Pears     ┆   ┆           ┆           ┆ Vegetable ┆          │\n",
              "│           ┆           ┆           ┆           ┆   ┆           ┆           ┆ s         ┆          │\n",
              "└───────────┴───────────┴───────────┴───────────┴───┴───────────┴───────────┴───────────┴──────────┘"
            ]
          },
          "execution_count": 11,
          "metadata": {},
          "output_type": "execute_result"
        }
      ],
      "source": [
        "stg_product = (df_products\n",
        "                .filter(~pl.col(\"supplier_ids\").str.contains(\";\"))\n",
        "                .with_columns(pl.col(\"supplier_ids\").cast(pl.Int64))\n",
        "                .pipe(rename_col,{'supplier_ids': 'supplier_id'})\n",
        "                .pipe(rename_col, {'id': 'product_id'})\n",
        "                .pipe(add_timestamp, 'insertion_timestamp')\n",
        "               )\n",
        "stg_product.head()"
      ]
    },
    {
      "cell_type": "code",
      "execution_count": null,
      "metadata": {
        "id": "NWnGvZOJA2oB",
        "outputId": "e91db52b-6daf-4749-d888-fe5324f937ac"
      },
      "outputs": [
        {
          "data": {
            "text/plain": [
              "LoadInfo(pipeline=<dlt.pipeline.pipeline.Pipeline object at 0x0000015202725810>, metrics={'1729340366.9642122': [{'started_at': DateTime(2024, 10, 19, 12, 19, 27, 571500, tzinfo=Timezone('UTC')), 'finished_at': DateTime(2024, 10, 19, 12, 19, 27, 985834, tzinfo=Timezone('UTC'))}]}, destination_type='dlt.destinations.duckdb', destination_displayable_credentials='duckdb:///d:\\\\DW_Pipline-Main\\\\load_northwind.duckdb', destination_name='duckdb', environment=None, staging_type=None, staging_name=None, staging_displayable_credentials=None, destination_fingerprint='', dataset_name='stg_northwind', loads_ids=['1729340366.9642122'], load_packages=[LoadPackageInfo(load_id='1729340366.9642122', package_path='C:\\\\Users\\\\Admin\\\\.dlt\\\\pipelines\\\\load_northwind\\\\load\\\\loaded\\\\1729340366.9642122', state='loaded', schema=Schema load_northwind at 1451792427856, schema_update={}, completed_at=DateTime(2024, 10, 19, 12, 19, 27, 949211, tzinfo=Timezone('UTC')), jobs={'new_jobs': [], 'completed_jobs': [LoadJobInfo(state='completed_jobs', file_path='C:\\\\Users\\\\Admin\\\\.dlt\\\\pipelines\\\\load_northwind\\\\load\\\\loaded\\\\1729340366.9642122\\\\completed_jobs\\\\stg_product.8d3380a3ae.0.parquet', file_size=7447, created_at=DateTime(2024, 10, 19, 12, 19, 27, 1942, tzinfo=Timezone('UTC')), elapsed=0.9472689628601074, job_file_info=ParsedLoadJobFileName(table_name='stg_product', file_id='8d3380a3ae', retry_count=0, file_format='parquet'), failed_message=None)], 'failed_jobs': [], 'started_jobs': []})], first_run=False)"
            ]
          },
          "execution_count": 12,
          "metadata": {},
          "output_type": "execute_result"
        }
      ],
      "source": [
        "pipeline.run(stg_product.to_pandas(), table_name='stg_product', write_disposition='replace')"
      ]
    },
    {
      "cell_type": "code",
      "execution_count": null,
      "metadata": {
        "id": "tM44unkmA2oB"
      },
      "outputs": [],
      "source": [
        "df_suppliers = pl.read_csv('./data/northwind/suppliers.csv')"
      ]
    },
    {
      "cell_type": "code",
      "execution_count": null,
      "metadata": {
        "id": "VD-hqLuNA2oC",
        "outputId": "5fbc2a36-a5fc-4a67-c342-22f935005c27"
      },
      "outputs": [
        {
          "data": {
            "text/html": [
              "<div><style>\n",
              ".dataframe > thead > tr,\n",
              ".dataframe > tbody > tr {\n",
              "  text-align: right;\n",
              "  white-space: pre-wrap;\n",
              "}\n",
              "</style>\n",
              "<small>shape: (5, 18)</small><table border=\"1\" class=\"dataframe\"><thead><tr><th>supplier_id</th><th>company</th><th>last_name</th><th>first_name</th><th>email_address</th><th>job_title</th><th>business_phone</th><th>home_phone</th><th>mobile_phone</th><th>fax_number</th><th>address</th><th>city</th><th>state_province</th><th>zip_postal_code</th><th>country_region</th><th>web_page</th><th>notes</th><th>attachments</th></tr><tr><td>i64</td><td>str</td><td>str</td><td>str</td><td>str</td><td>str</td><td>str</td><td>str</td><td>str</td><td>str</td><td>str</td><td>str</td><td>str</td><td>str</td><td>str</td><td>str</td><td>str</td><td>str</td></tr></thead><tbody><tr><td>1</td><td>&quot;Supplier A&quot;</td><td>&quot;Andersen&quot;</td><td>&quot;Elizabeth A.&quot;</td><td>null</td><td>&quot;Sales Manager&quot;</td><td>null</td><td>null</td><td>null</td><td>null</td><td>null</td><td>null</td><td>null</td><td>null</td><td>null</td><td>null</td><td>null</td><td>null</td></tr><tr><td>2</td><td>&quot;Supplier B&quot;</td><td>&quot;Weiler&quot;</td><td>&quot;Cornelia&quot;</td><td>null</td><td>&quot;Sales Manager&quot;</td><td>null</td><td>null</td><td>null</td><td>null</td><td>null</td><td>null</td><td>null</td><td>null</td><td>null</td><td>null</td><td>null</td><td>null</td></tr><tr><td>5</td><td>&quot;Supplier E&quot;</td><td>&quot;Hernandez-Echevarria&quot;</td><td>&quot;Amaya&quot;</td><td>null</td><td>&quot;Sales Manager&quot;</td><td>null</td><td>null</td><td>null</td><td>null</td><td>null</td><td>null</td><td>null</td><td>null</td><td>null</td><td>null</td><td>null</td><td>null</td></tr><tr><td>9</td><td>&quot;Supplier I&quot;</td><td>&quot;Sandberg&quot;</td><td>&quot;Mikael&quot;</td><td>null</td><td>&quot;Sales Manager&quot;</td><td>null</td><td>null</td><td>null</td><td>null</td><td>null</td><td>null</td><td>null</td><td>null</td><td>null</td><td>null</td><td>null</td><td>null</td></tr><tr><td>10</td><td>&quot;Supplier J&quot;</td><td>&quot;Sousa&quot;</td><td>&quot;Luis&quot;</td><td>null</td><td>&quot;Sales Manager&quot;</td><td>null</td><td>null</td><td>null</td><td>null</td><td>null</td><td>null</td><td>null</td><td>null</td><td>null</td><td>null</td><td>null</td><td>null</td></tr></tbody></table></div>"
            ],
            "text/plain": [
              "shape: (5, 18)\n",
              "┌────────────┬────────────┬────────────┬────────────┬───┬───────────┬──────────┬───────┬───────────┐\n",
              "│ supplier_i ┆ company    ┆ last_name  ┆ first_name ┆ … ┆ country_r ┆ web_page ┆ notes ┆ attachmen │\n",
              "│ d          ┆ ---        ┆ ---        ┆ ---        ┆   ┆ egion     ┆ ---      ┆ ---   ┆ ts        │\n",
              "│ ---        ┆ str        ┆ str        ┆ str        ┆   ┆ ---       ┆ str      ┆ str   ┆ ---       │\n",
              "│ i64        ┆            ┆            ┆            ┆   ┆ str       ┆          ┆       ┆ str       │\n",
              "╞════════════╪════════════╪════════════╪════════════╪═══╪═══════════╪══════════╪═══════╪═══════════╡\n",
              "│ 1          ┆ Supplier A ┆ Andersen   ┆ Elizabeth  ┆ … ┆ null      ┆ null     ┆ null  ┆ null      │\n",
              "│            ┆            ┆            ┆ A.         ┆   ┆           ┆          ┆       ┆           │\n",
              "│ 2          ┆ Supplier B ┆ Weiler     ┆ Cornelia   ┆ … ┆ null      ┆ null     ┆ null  ┆ null      │\n",
              "│ 5          ┆ Supplier E ┆ Hernandez- ┆ Amaya      ┆ … ┆ null      ┆ null     ┆ null  ┆ null      │\n",
              "│            ┆            ┆ Echevarria ┆            ┆   ┆           ┆          ┆       ┆           │\n",
              "│ 9          ┆ Supplier I ┆ Sandberg   ┆ Mikael     ┆ … ┆ null      ┆ null     ┆ null  ┆ null      │\n",
              "│ 10         ┆ Supplier J ┆ Sousa      ┆ Luis       ┆ … ┆ null      ┆ null     ┆ null  ┆ null      │\n",
              "└────────────┴────────────┴────────────┴────────────┴───┴───────────┴──────────┴───────┴───────────┘"
            ]
          },
          "execution_count": 14,
          "metadata": {},
          "output_type": "execute_result"
        }
      ],
      "source": [
        "stg_supplier = (df_suppliers\n",
        "                .pipe(add_timestamp, 'insertion_timestamp')\n",
        "                .pipe(rename_col, {'id': 'supplier_id'})\n",
        "               )\n",
        "stg_supplier.head()"
      ]
    },
    {
      "cell_type": "code",
      "execution_count": null,
      "metadata": {
        "id": "nQTtGnveA2oC",
        "outputId": "6ea0cdc9-a482-439e-b22b-6dee00363331"
      },
      "outputs": [
        {
          "data": {
            "text/plain": [
              "LoadInfo(pipeline=<dlt.pipeline.pipeline.Pipeline object at 0x0000015202725810>, metrics={'1729340368.158272': [{'started_at': DateTime(2024, 10, 19, 12, 19, 28, 855949, tzinfo=Timezone('UTC')), 'finished_at': DateTime(2024, 10, 19, 12, 19, 29, 288417, tzinfo=Timezone('UTC'))}]}, destination_type='dlt.destinations.duckdb', destination_displayable_credentials='duckdb:///d:\\\\DW_Pipline-Main\\\\load_northwind.duckdb', destination_name='duckdb', environment=None, staging_type=None, staging_name=None, staging_displayable_credentials=None, destination_fingerprint='', dataset_name='stg_northwind', loads_ids=['1729340368.158272'], load_packages=[LoadPackageInfo(load_id='1729340368.158272', package_path='C:\\\\Users\\\\Admin\\\\.dlt\\\\pipelines\\\\load_northwind\\\\load\\\\loaded\\\\1729340368.158272', state='loaded', schema=Schema load_northwind at 1451792205136, schema_update={}, completed_at=DateTime(2024, 10, 19, 12, 19, 29, 252067, tzinfo=Timezone('UTC')), jobs={'new_jobs': [], 'completed_jobs': [LoadJobInfo(state='completed_jobs', file_path='C:\\\\Users\\\\Admin\\\\.dlt\\\\pipelines\\\\load_northwind\\\\load\\\\loaded\\\\1729340368.158272\\\\completed_jobs\\\\stg_supplier.cec8c43af1.0.parquet', file_size=8213, created_at=DateTime(2024, 10, 19, 12, 19, 28, 217349, tzinfo=Timezone('UTC')), elapsed=1.0347177982330322, job_file_info=ParsedLoadJobFileName(table_name='stg_supplier', file_id='cec8c43af1', retry_count=0, file_format='parquet'), failed_message=None)], 'failed_jobs': [], 'started_jobs': []})], first_run=False)"
            ]
          },
          "execution_count": 15,
          "metadata": {},
          "output_type": "execute_result"
        }
      ],
      "source": [
        "pipeline.run(stg_supplier.to_pandas(), table_name='stg_supplier', write_disposition='replace')"
      ]
    },
    {
      "cell_type": "code",
      "execution_count": null,
      "metadata": {
        "id": "CGQ5KEd0A2oC",
        "outputId": "4b865091-1752-4bdd-efff-07b4c034b143"
      },
      "outputs": [
        {
          "data": {
            "text/html": [
              "<div><style>\n",
              ".dataframe > thead > tr,\n",
              ".dataframe > tbody > tr {\n",
              "  text-align: right;\n",
              "  white-space: pre-wrap;\n",
              "}\n",
              "</style>\n",
              "<small>shape: (5, 30)</small><table border=\"1\" class=\"dataframe\"><thead><tr><th>product_id</th><th>product_code</th><th>product_name</th><th>description</th><th>standard_cost</th><th>list_price</th><th>reorder_level</th><th>target_level</th><th>quantity_per_unit</th><th>discontinued</th><th>minimum_reorder_quantity</th><th>category</th><th>attachments</th><th>company</th><th>last_name</th><th>first_name</th><th>email_address</th><th>job_title</th><th>business_phone</th><th>home_phone</th><th>mobile_phone</th><th>fax_number</th><th>address</th><th>city</th><th>state_province</th><th>zip_postal_code</th><th>country_region</th><th>web_page</th><th>notes</th><th>attachments_right</th></tr><tr><td>i64</td><td>str</td><td>str</td><td>str</td><td>f64</td><td>f64</td><td>i64</td><td>i64</td><td>str</td><td>i64</td><td>i64</td><td>str</td><td>str</td><td>str</td><td>str</td><td>str</td><td>str</td><td>str</td><td>str</td><td>str</td><td>str</td><td>str</td><td>str</td><td>str</td><td>str</td><td>str</td><td>str</td><td>str</td><td>str</td><td>str</td></tr></thead><tbody><tr><td>87</td><td>&quot;NWTB-87&quot;</td><td>&quot;Northwind Traders Tea&quot;</td><td>null</td><td>2.0</td><td>4.0</td><td>20</td><td>50</td><td>&quot;100 count per box&quot;</td><td>0</td><td>null</td><td>&quot;Beverages&quot;</td><td>null</td><td>&quot;Supplier G&quot;</td><td>&quot;Glasson&quot;</td><td>&quot;Stuart&quot;</td><td>null</td><td>&quot;Marketing Manager&quot;</td><td>null</td><td>null</td><td>null</td><td>null</td><td>null</td><td>null</td><td>null</td><td>null</td><td>null</td><td>null</td><td>null</td><td>null</td></tr><tr><td>91</td><td>&quot;NWTCFV-91&quot;</td><td>&quot;Northwind Traders Cherry Pie F…</td><td>null</td><td>1.0</td><td>2.0</td><td>10</td><td>40</td><td>&quot;15.25 OZ&quot;</td><td>0</td><td>null</td><td>&quot;Canned Fruit &amp; Vegetables&quot;</td><td>null</td><td>&quot;Supplier F&quot;</td><td>&quot;Hayakawa&quot;</td><td>&quot;Satomi&quot;</td><td>null</td><td>&quot;Marketing Assistant&quot;</td><td>null</td><td>null</td><td>null</td><td>null</td><td>null</td><td>null</td><td>null</td><td>null</td><td>null</td><td>null</td><td>null</td><td>null</td></tr><tr><td>89</td><td>&quot;NWTCFV-89&quot;</td><td>&quot;Northwind Traders Peaches&quot;</td><td>null</td><td>1.0</td><td>1.5</td><td>10</td><td>40</td><td>&quot;15.25 OZ&quot;</td><td>0</td><td>null</td><td>&quot;Canned Fruit &amp; Vegetables&quot;</td><td>null</td><td>&quot;Supplier F&quot;</td><td>&quot;Hayakawa&quot;</td><td>&quot;Satomi&quot;</td><td>null</td><td>&quot;Marketing Assistant&quot;</td><td>null</td><td>null</td><td>null</td><td>null</td><td>null</td><td>null</td><td>null</td><td>null</td><td>null</td><td>null</td><td>null</td><td>null</td></tr><tr><td>86</td><td>&quot;NWTBGM-86&quot;</td><td>&quot;Northwind Traders Cake Mix&quot;</td><td>null</td><td>10.5</td><td>15.99</td><td>10</td><td>20</td><td>&quot;4 boxes&quot;</td><td>0</td><td>5</td><td>&quot;Baked Goods &amp; Mixes&quot;</td><td>null</td><td>&quot;Supplier A&quot;</td><td>&quot;Andersen&quot;</td><td>&quot;Elizabeth A.&quot;</td><td>null</td><td>&quot;Sales Manager&quot;</td><td>null</td><td>null</td><td>null</td><td>null</td><td>null</td><td>null</td><td>null</td><td>null</td><td>null</td><td>null</td><td>null</td><td>null</td></tr><tr><td>72</td><td>&quot;NWTD-72&quot;</td><td>&quot;Northwind Traders Mozzarella&quot;</td><td>null</td><td>26.1</td><td>34.8</td><td>10</td><td>40</td><td>&quot;24 - 200 g pkgs.&quot;</td><td>0</td><td>10</td><td>&quot;Dairy `dl_northwind`.`products…</td><td>null</td><td>&quot;Supplier E&quot;</td><td>&quot;Hernandez-Echevarria&quot;</td><td>&quot;Amaya&quot;</td><td>null</td><td>&quot;Sales Manager&quot;</td><td>null</td><td>null</td><td>null</td><td>null</td><td>null</td><td>null</td><td>null</td><td>null</td><td>null</td><td>null</td><td>null</td><td>null</td></tr></tbody></table></div>"
            ],
            "text/plain": [
              "shape: (5, 30)\n",
              "┌────────────┬────────────┬────────────┬────────────┬───┬───────────┬──────────┬───────┬───────────┐\n",
              "│ product_id ┆ product_co ┆ product_na ┆ descriptio ┆ … ┆ country_r ┆ web_page ┆ notes ┆ attachmen │\n",
              "│ ---        ┆ de         ┆ me         ┆ n          ┆   ┆ egion     ┆ ---      ┆ ---   ┆ ts_right  │\n",
              "│ i64        ┆ ---        ┆ ---        ┆ ---        ┆   ┆ ---       ┆ str      ┆ str   ┆ ---       │\n",
              "│            ┆ str        ┆ str        ┆ str        ┆   ┆ str       ┆          ┆       ┆ str       │\n",
              "╞════════════╪════════════╪════════════╪════════════╪═══╪═══════════╪══════════╪═══════╪═══════════╡\n",
              "│ 87         ┆ NWTB-87    ┆ Northwind  ┆ null       ┆ … ┆ null      ┆ null     ┆ null  ┆ null      │\n",
              "│            ┆            ┆ Traders    ┆            ┆   ┆           ┆          ┆       ┆           │\n",
              "│            ┆            ┆ Tea        ┆            ┆   ┆           ┆          ┆       ┆           │\n",
              "│ 91         ┆ NWTCFV-91  ┆ Northwind  ┆ null       ┆ … ┆ null      ┆ null     ┆ null  ┆ null      │\n",
              "│            ┆            ┆ Traders    ┆            ┆   ┆           ┆          ┆       ┆           │\n",
              "│            ┆            ┆ Cherry Pie ┆            ┆   ┆           ┆          ┆       ┆           │\n",
              "│            ┆            ┆ F…         ┆            ┆   ┆           ┆          ┆       ┆           │\n",
              "│ 89         ┆ NWTCFV-89  ┆ Northwind  ┆ null       ┆ … ┆ null      ┆ null     ┆ null  ┆ null      │\n",
              "│            ┆            ┆ Traders    ┆            ┆   ┆           ┆          ┆       ┆           │\n",
              "│            ┆            ┆ Peaches    ┆            ┆   ┆           ┆          ┆       ┆           │\n",
              "│ 86         ┆ NWTBGM-86  ┆ Northwind  ┆ null       ┆ … ┆ null      ┆ null     ┆ null  ┆ null      │\n",
              "│            ┆            ┆ Traders    ┆            ┆   ┆           ┆          ┆       ┆           │\n",
              "│            ┆            ┆ Cake Mix   ┆            ┆   ┆           ┆          ┆       ┆           │\n",
              "│ 72         ┆ NWTD-72    ┆ Northwind  ┆ null       ┆ … ┆ null      ┆ null     ┆ null  ┆ null      │\n",
              "│            ┆            ┆ Traders    ┆            ┆   ┆           ┆          ┆       ┆           │\n",
              "│            ┆            ┆ Mozzarella ┆            ┆   ┆           ┆          ┆       ┆           │\n",
              "└────────────┴────────────┴────────────┴────────────┴───┴───────────┴──────────┴───────┴───────────┘"
            ]
          },
          "execution_count": 16,
          "metadata": {},
          "output_type": "execute_result"
        }
      ],
      "source": [
        "dim_products = (stg_product\n",
        "                .join(stg_supplier, on='supplier_id', how='left',coalesce=True)\n",
        "                .pipe(unique, 'product_id')\n",
        "                .pipe(exclude, 'supplier_id')\n",
        "                .pipe(add_timestamp, 'insertion_timestamp')\n",
        "    )\n",
        "dim_products.head()"
      ]
    },
    {
      "cell_type": "code",
      "execution_count": null,
      "metadata": {
        "id": "wW1Cx5DVA2oC",
        "outputId": "4fb1a2d8-d0d1-4fbb-8076-b6cbc0209abf"
      },
      "outputs": [
        {
          "data": {
            "text/plain": [
              "LoadInfo(pipeline=<dlt.pipeline.pipeline.Pipeline object at 0x0000015202725810>, metrics={'1729340369.4455614': [{'started_at': DateTime(2024, 10, 19, 12, 19, 30, 100241, tzinfo=Timezone('UTC')), 'finished_at': DateTime(2024, 10, 19, 12, 19, 30, 516729, tzinfo=Timezone('UTC'))}]}, destination_type='dlt.destinations.duckdb', destination_displayable_credentials='duckdb:///d:\\\\DW_Pipline-Main\\\\load_northwind.duckdb', destination_name='duckdb', environment=None, staging_type=None, staging_name=None, staging_displayable_credentials=None, destination_fingerprint='', dataset_name='stg_northwind', loads_ids=['1729340369.4455614'], load_packages=[LoadPackageInfo(load_id='1729340369.4455614', package_path='C:\\\\Users\\\\Admin\\\\.dlt\\\\pipelines\\\\load_northwind\\\\load\\\\loaded\\\\1729340369.4455614', state='loaded', schema=Schema load_northwind at 1451774509712, schema_update={}, completed_at=DateTime(2024, 10, 19, 12, 19, 30, 482794, tzinfo=Timezone('UTC')), jobs={'new_jobs': [], 'completed_jobs': [LoadJobInfo(state='completed_jobs', file_path='C:\\\\Users\\\\Admin\\\\.dlt\\\\pipelines\\\\load_northwind\\\\load\\\\loaded\\\\1729340369.4455614\\\\completed_jobs\\\\dim_product.469675b8ac.0.parquet', file_size=17807, created_at=DateTime(2024, 10, 19, 12, 19, 29, 495355, tzinfo=Timezone('UTC')), elapsed=0.9874393939971924, job_file_info=ParsedLoadJobFileName(table_name='dim_product', file_id='469675b8ac', retry_count=0, file_format='parquet'), failed_message=None)], 'failed_jobs': [], 'started_jobs': []})], first_run=False)"
            ]
          },
          "execution_count": 17,
          "metadata": {},
          "output_type": "execute_result"
        }
      ],
      "source": [
        "pipeline.run(dim_products.to_pandas(), table_name='dim_product', write_disposition='replace')"
      ]
    },
    {
      "cell_type": "markdown",
      "metadata": {
        "id": "sCvaeauaA2oD"
      },
      "source": [
        "## create dim_date"
      ]
    },
    {
      "cell_type": "code",
      "execution_count": null,
      "metadata": {
        "id": "CM8liXPwA2oD"
      },
      "outputs": [],
      "source": [
        "import polars as pl\n",
        "from datetime import datetime\n",
        "import duckdb as dd"
      ]
    },
    {
      "cell_type": "code",
      "execution_count": null,
      "metadata": {
        "id": "Gfij_sDoA2oD"
      },
      "outputs": [],
      "source": [
        "## 1.Setting start and end dates\n",
        "start_date = pl.datetime(2006, 1, 1)\n",
        "end_date = pl.datetime(2050, 1, 1)\n",
        "\n",
        "## 2.Generate date range\n",
        "date_range = pl.date_range(start=start_date, end=end_date, interval=\"1d\", eager=True)\n",
        "\n",
        "## 3.Convert to DataFrame and setting column name as 'date'\n",
        "df_date = pl.DataFrame({\n",
        "        \"date\": date_range\n",
        "})"
      ]
    },
    {
      "cell_type": "code",
      "execution_count": null,
      "metadata": {
        "id": "ZzkiX4nPA2oD",
        "outputId": "9ba8d21d-9c08-42dd-ab5f-17626592ddb5"
      },
      "outputs": [
        {
          "data": {
            "text/html": [
              "<div><style>\n",
              ".dataframe > thead > tr,\n",
              ".dataframe > tbody > tr {\n",
              "  text-align: right;\n",
              "  white-space: pre-wrap;\n",
              "}\n",
              "</style>\n",
              "<small>shape: (5, 1)</small><table border=\"1\" class=\"dataframe\"><thead><tr><th>date</th></tr><tr><td>datetime[μs]</td></tr></thead><tbody><tr><td>2006-01-01 00:00:00</td></tr><tr><td>2006-01-02 00:00:00</td></tr><tr><td>2006-01-03 00:00:00</td></tr><tr><td>2006-01-04 00:00:00</td></tr><tr><td>2006-01-05 00:00:00</td></tr></tbody></table></div>"
            ],
            "text/plain": [
              "shape: (5, 1)\n",
              "┌─────────────────────┐\n",
              "│ date                │\n",
              "│ ---                 │\n",
              "│ datetime[μs]        │\n",
              "╞═════════════════════╡\n",
              "│ 2006-01-01 00:00:00 │\n",
              "│ 2006-01-02 00:00:00 │\n",
              "│ 2006-01-03 00:00:00 │\n",
              "│ 2006-01-04 00:00:00 │\n",
              "│ 2006-01-05 00:00:00 │\n",
              "└─────────────────────┘"
            ]
          },
          "execution_count": 68,
          "metadata": {},
          "output_type": "execute_result"
        }
      ],
      "source": [
        "df_date.head()"
      ]
    },
    {
      "cell_type": "code",
      "execution_count": null,
      "metadata": {
        "id": "YwPqsidTA2oD"
      },
      "outputs": [],
      "source": [
        "dim_date = (df_date\n",
        "           .select(\n",
        "        pl.col('date').dt.strftime(\"%m-%d-%Y\").alias('date_id'),\n",
        "        pl.col('date').dt.date().alias('order_date'),\n",
        "        pl.col(\"date\").dt.year().alias(\"year\"),\n",
        "        pl.col(\"date\").dt.week().alias(\"year_week\"),\n",
        "        pl.col(\"date\").dt.ordinal_day().alias(\"year_day\"),\n",
        "        pl.col(\"date\").dt.year().alias(\"fiscal_year\"),\n",
        "        pl.col(\"date\").dt.quarter().alias(\"fiscal_qtr\"),\n",
        "        pl.col(\"date\").dt.strftime(\"%B\").alias(\"month_name\"),\n",
        "        pl.col(\"date\").dt.strftime(\"%W\").alias(\"week_day\"),\n",
        "        pl.col(\"date\").dt.strftime(\"%A\").alias(\"day_name\"),\n",
        "    ).with_columns(pl.col('day_name').is_in(['Saturday','Sunday']).alias(\"WeekendFlag\"))\n",
        "    .to_pandas()\n",
        "           )"
      ]
    },
    {
      "cell_type": "code",
      "execution_count": null,
      "metadata": {
        "id": "ZmF5ng_gA2oD",
        "outputId": "0fa7e004-97a0-4261-9236-c8f993be03e3"
      },
      "outputs": [
        {
          "data": {
            "text/plain": [
              "LoadInfo(pipeline=<dlt.pipeline.pipeline.Pipeline object at 0x0000015202725810>, metrics={'1729342080.1794314': [{'started_at': DateTime(2024, 10, 19, 12, 48, 0, 913224, tzinfo=Timezone('UTC')), 'finished_at': DateTime(2024, 10, 19, 12, 48, 1, 427233, tzinfo=Timezone('UTC'))}]}, destination_type='dlt.destinations.duckdb', destination_displayable_credentials='duckdb:///d:\\\\DW_Pipline-Main\\\\load_northwind.duckdb', destination_name='duckdb', environment=None, staging_type=None, staging_name=None, staging_displayable_credentials=None, destination_fingerprint='', dataset_name='stg_northwind', loads_ids=['1729342080.1794314'], load_packages=[LoadPackageInfo(load_id='1729342080.1794314', package_path='C:\\\\Users\\\\Admin\\\\.dlt\\\\pipelines\\\\load_northwind\\\\load\\\\loaded\\\\1729342080.1794314', state='loaded', schema=Schema load_northwind at 1452204915984, schema_update={}, completed_at=DateTime(2024, 10, 19, 12, 48, 1, 383392, tzinfo=Timezone('UTC')), jobs={'new_jobs': [], 'completed_jobs': [LoadJobInfo(state='completed_jobs', file_path='C:\\\\Users\\\\Admin\\\\.dlt\\\\pipelines\\\\load_northwind\\\\load\\\\loaded\\\\1729342080.1794314\\\\completed_jobs\\\\dim_date.3afbedcd57.0.parquet', file_size=229962, created_at=DateTime(2024, 10, 19, 12, 48, 0, 242068, tzinfo=Timezone('UTC')), elapsed=1.1413238048553467, job_file_info=ParsedLoadJobFileName(table_name='dim_date', file_id='3afbedcd57', retry_count=0, file_format='parquet'), failed_message=None)], 'failed_jobs': [], 'started_jobs': []})], first_run=False)"
            ]
          },
          "execution_count": 70,
          "metadata": {},
          "output_type": "execute_result"
        }
      ],
      "source": [
        "pipeline.run(dim_date, table_name='dim_date', write_disposition='replace')"
      ]
    },
    {
      "cell_type": "markdown",
      "metadata": {
        "id": "bs3HRG5YA2oH"
      },
      "source": [
        "## Order dimension table."
      ]
    },
    {
      "cell_type": "code",
      "execution_count": null,
      "metadata": {
        "id": "weKSVIvOA2oH"
      },
      "outputs": [],
      "source": [
        "df_order = pl.read_csv('./data/northwind/orders.csv')\n",
        "df_order_detail = pl.read_csv('./data/northwind/order_details.csv')"
      ]
    },
    {
      "cell_type": "code",
      "execution_count": null,
      "metadata": {
        "id": "PgiZmZV-A2oH"
      },
      "outputs": [],
      "source": [
        "df_orders = (df_order\n",
        "            .pipe(add_timestamp,'ingestion_timestamp')\n",
        "            .pipe(rename_col,{'id':'order_id'})\n",
        "            .pipe(sort,'order_id')\n",
        ")"
      ]
    },
    {
      "cell_type": "code",
      "execution_count": null,
      "metadata": {
        "id": "ATRY7henA2oI"
      },
      "outputs": [],
      "source": [
        "df_orders_details = (df_order_detail\n",
        "            .pipe(add_timestamp,'ingestion_timestamp')\n",
        "            .pipe(rename_col,{'id':'orderdetail_id'})\n",
        ")"
      ]
    },
    {
      "cell_type": "code",
      "execution_count": null,
      "metadata": {
        "id": "z_gz5I-mA2oI",
        "outputId": "287aeced-d3c4-48ef-88c5-09c5eda2fd97"
      },
      "outputs": [
        {
          "data": {
            "text/plain": [
              "LoadInfo(pipeline=<dlt.pipeline.pipeline.Pipeline object at 0x0000015202725810>, metrics={'1729340824.829875': [{'started_at': DateTime(2024, 10, 19, 12, 27, 5, 477330, tzinfo=Timezone('UTC')), 'finished_at': DateTime(2024, 10, 19, 12, 27, 5, 868583, tzinfo=Timezone('UTC'))}]}, destination_type='dlt.destinations.duckdb', destination_displayable_credentials='duckdb:///d:\\\\DW_Pipline-Main\\\\load_northwind.duckdb', destination_name='duckdb', environment=None, staging_type=None, staging_name=None, staging_displayable_credentials=None, destination_fingerprint='', dataset_name='stg_northwind', loads_ids=['1729340824.829875'], load_packages=[LoadPackageInfo(load_id='1729340824.829875', package_path='C:\\\\Users\\\\Admin\\\\.dlt\\\\pipelines\\\\load_northwind\\\\load\\\\loaded\\\\1729340824.829875', state='loaded', schema=Schema load_northwind at 1452088381264, schema_update={'df_orders': {'name': 'df_orders', 'columns': {'order_id': {'name': 'order_id', 'nullable': True, 'data_type': 'bigint'}, 'employee_id': {'name': 'employee_id', 'nullable': True, 'data_type': 'bigint'}, 'customer_id': {'name': 'customer_id', 'nullable': True, 'data_type': 'bigint'}, 'order_date': {'name': 'order_date', 'nullable': True, 'data_type': 'text'}, 'shipped_date': {'name': 'shipped_date', 'nullable': True, 'data_type': 'text'}, 'shipper_id': {'name': 'shipper_id', 'nullable': True, 'data_type': 'double'}, 'ship_name': {'name': 'ship_name', 'nullable': True, 'data_type': 'text'}, 'ship_address': {'name': 'ship_address', 'nullable': True, 'data_type': 'text'}, 'ship_city': {'name': 'ship_city', 'nullable': True, 'data_type': 'text'}, 'ship_state_province': {'name': 'ship_state_province', 'nullable': True, 'data_type': 'text'}, 'ship_zip_postal_code': {'name': 'ship_zip_postal_code', 'nullable': True, 'data_type': 'bigint'}, 'ship_country_region': {'name': 'ship_country_region', 'nullable': True, 'data_type': 'text'}, 'shipping_fee': {'name': 'shipping_fee', 'nullable': True, 'data_type': 'bigint'}, 'taxes': {'name': 'taxes', 'nullable': True, 'data_type': 'bigint'}, 'payment_type': {'name': 'payment_type', 'nullable': True, 'data_type': 'text'}, 'paid_date': {'name': 'paid_date', 'nullable': True, 'data_type': 'text'}, 'tax_rate': {'name': 'tax_rate', 'nullable': True, 'data_type': 'bigint'}, 'status_id': {'name': 'status_id', 'nullable': True, 'data_type': 'bigint'}}, 'write_disposition': 'replace', 'resource': 'df_orders', 'x-normalizer': {'seen-data': True}, 'table_format': None}}, completed_at=DateTime(2024, 10, 19, 12, 27, 5, 832663, tzinfo=Timezone('UTC')), jobs={'new_jobs': [], 'completed_jobs': [LoadJobInfo(state='completed_jobs', file_path='C:\\\\Users\\\\Admin\\\\.dlt\\\\pipelines\\\\load_northwind\\\\load\\\\loaded\\\\1729340824.829875\\\\completed_jobs\\\\df_orders.b828169e44.0.parquet', file_size=15342, created_at=DateTime(2024, 10, 19, 12, 27, 4, 876215, tzinfo=Timezone('UTC')), elapsed=0.9564476013183594, job_file_info=ParsedLoadJobFileName(table_name='df_orders', file_id='b828169e44', retry_count=0, file_format='parquet'), failed_message=None)], 'failed_jobs': [], 'started_jobs': []})], first_run=False)"
            ]
          },
          "execution_count": 48,
          "metadata": {},
          "output_type": "execute_result"
        }
      ],
      "source": [
        "pipeline.run(df_orders.to_pandas(), table_name='df_orders', write_disposition='replace')"
      ]
    },
    {
      "cell_type": "code",
      "execution_count": null,
      "metadata": {
        "id": "K1sESETXA2oI",
        "outputId": "59bad921-b757-4739-b9c6-22dde027b41f"
      },
      "outputs": [
        {
          "data": {
            "text/plain": [
              "LoadInfo(pipeline=<dlt.pipeline.pipeline.Pipeline object at 0x0000015202725810>, metrics={'1729340827.9249744': [{'started_at': DateTime(2024, 10, 19, 12, 27, 8, 560325, tzinfo=Timezone('UTC')), 'finished_at': DateTime(2024, 10, 19, 12, 27, 8, 953431, tzinfo=Timezone('UTC'))}]}, destination_type='dlt.destinations.duckdb', destination_displayable_credentials='duckdb:///d:\\\\DW_Pipline-Main\\\\load_northwind.duckdb', destination_name='duckdb', environment=None, staging_type=None, staging_name=None, staging_displayable_credentials=None, destination_fingerprint='', dataset_name='stg_northwind', loads_ids=['1729340827.9249744'], load_packages=[LoadPackageInfo(load_id='1729340827.9249744', package_path='C:\\\\Users\\\\Admin\\\\.dlt\\\\pipelines\\\\load_northwind\\\\load\\\\loaded\\\\1729340827.9249744', state='loaded', schema=Schema load_northwind at 1452071177168, schema_update={'df_orders_details': {'name': 'df_orders_details', 'columns': {'orderdetail_id': {'name': 'orderdetail_id', 'nullable': True, 'data_type': 'bigint'}, 'order_id': {'name': 'order_id', 'nullable': True, 'data_type': 'bigint'}, 'product_id': {'name': 'product_id', 'nullable': True, 'data_type': 'bigint'}, 'quantity': {'name': 'quantity', 'nullable': True, 'data_type': 'bigint'}, 'unit_price': {'name': 'unit_price', 'nullable': True, 'data_type': 'double'}, 'discount': {'name': 'discount', 'nullable': True, 'data_type': 'bigint'}, 'status_id': {'name': 'status_id', 'nullable': True, 'data_type': 'bigint'}, 'purchase_order_id': {'name': 'purchase_order_id', 'nullable': True, 'data_type': 'double'}, 'inventory_id': {'name': 'inventory_id', 'nullable': True, 'data_type': 'double'}}, 'write_disposition': 'replace', 'resource': 'df_orders_details', 'x-normalizer': {'seen-data': True}, 'table_format': None}}, completed_at=DateTime(2024, 10, 19, 12, 27, 8, 914514, tzinfo=Timezone('UTC')), jobs={'new_jobs': [], 'completed_jobs': [LoadJobInfo(state='completed_jobs', file_path='C:\\\\Users\\\\Admin\\\\.dlt\\\\pipelines\\\\load_northwind\\\\load\\\\loaded\\\\1729340827.9249744\\\\completed_jobs\\\\df_orders_details.3299b11e1b.0.parquet', file_size=8706, created_at=DateTime(2024, 10, 19, 12, 27, 7, 962780, tzinfo=Timezone('UTC')), elapsed=0.9517343044281006, job_file_info=ParsedLoadJobFileName(table_name='df_orders_details', file_id='3299b11e1b', retry_count=0, file_format='parquet'), failed_message=None)], 'failed_jobs': [], 'started_jobs': []})], first_run=False)"
            ]
          },
          "execution_count": 49,
          "metadata": {},
          "output_type": "execute_result"
        }
      ],
      "source": [
        "pipeline.run(df_orders_details.to_pandas(), table_name='df_orders_details', write_disposition='replace')"
      ]
    },
    {
      "cell_type": "markdown",
      "metadata": {
        "id": "T2R6tFcsA2oI"
      },
      "source": [
        "- Read `stg_orders` tabel with `northwind_stg` schema from `load_northwind.duckdb` and naming `df_order`.\n",
        "- Read `stg_orders_details` tabel with `northwind_stg` schema from `load_northwind.duckdb` and naming `df_order_detail`.\n",
        "- From `df_order` table, select columns: ['order_id','customer_id','employee_id','shipper_id',\n",
        "'order_date','shipped_date','paid_date']\n",
        "- Change dtype of `order_date` string type to `Date` dtype.\n",
        "- From `df_order_detail` table, select columns: ['order_id','product_id',\n",
        "'status_id','purchase_order_id','inventory_id','quantity','unit_price','discount']"
      ]
    },
    {
      "cell_type": "code",
      "execution_count": null,
      "metadata": {
        "id": "q6-23PjsA2oI"
      },
      "outputs": [],
      "source": [
        "from lib_pipefn import pipe_nw,manage_duckdb"
      ]
    },
    {
      "cell_type": "code",
      "execution_count": null,
      "metadata": {
        "id": "E_fJBPB6A2oI"
      },
      "outputs": [],
      "source": [
        "stg_orders = manage_duckdb.read_duckdb_repo('load_northwind.duckdb','stg_northwind.df_orders')\n",
        "stg_orders_details = manage_duckdb.read_duckdb_repo('load_northwind.duckdb','stg_northwind.df_orders_details')"
      ]
    },
    {
      "cell_type": "code",
      "execution_count": null,
      "metadata": {
        "id": "G2cxvXmSA2oI",
        "outputId": "cc2fdda0-fd2c-4c0e-c44b-9a198aec34d7"
      },
      "outputs": [
        {
          "data": {
            "text/html": [
              "<div><style>\n",
              ".dataframe > thead > tr,\n",
              ".dataframe > tbody > tr {\n",
              "  text-align: right;\n",
              "  white-space: pre-wrap;\n",
              "}\n",
              "</style>\n",
              "<small>shape: (48, 7)</small><table border=\"1\" class=\"dataframe\"><thead><tr><th>order_id</th><th>customer_id</th><th>employee_id</th><th>shipper_id</th><th>order_date</th><th>shipped_date</th><th>paid_date</th></tr><tr><td>i64</td><td>i64</td><td>i64</td><td>f64</td><td>date</td><td>str</td><td>str</td></tr></thead><tbody><tr><td>30</td><td>27</td><td>9</td><td>2.0</td><td>2006-01-15</td><td>&quot;1/22/2006 0:00:00&quot;</td><td>&quot;1/15/2006 0:00:00&quot;</td></tr><tr><td>31</td><td>4</td><td>3</td><td>1.0</td><td>2006-01-20</td><td>&quot;1/22/2006 0:00:00&quot;</td><td>&quot;1/20/2006 0:00:00&quot;</td></tr><tr><td>32</td><td>12</td><td>4</td><td>2.0</td><td>2006-01-22</td><td>&quot;1/22/2006 0:00:00&quot;</td><td>&quot;1/22/2006 0:00:00&quot;</td></tr><tr><td>33</td><td>8</td><td>6</td><td>3.0</td><td>2006-01-30</td><td>&quot;1/31/2006 0:00:00&quot;</td><td>&quot;1/30/2006 0:00:00&quot;</td></tr><tr><td>34</td><td>4</td><td>9</td><td>3.0</td><td>2006-02-06</td><td>&quot;2/7/2006 0:00:00&quot;</td><td>&quot;2/6/2006 0:00:00&quot;</td></tr><tr><td>&hellip;</td><td>&hellip;</td><td>&hellip;</td><td>&hellip;</td><td>&hellip;</td><td>&hellip;</td><td>&hellip;</td></tr><tr><td>77</td><td>26</td><td>9</td><td>3.0</td><td>2006-06-05</td><td>&quot;6/5/2006 0:00:00&quot;</td><td>&quot;6/5/2006 0:00:00&quot;</td></tr><tr><td>78</td><td>29</td><td>1</td><td>2.0</td><td>2006-06-05</td><td>&quot;6/5/2006 0:00:00&quot;</td><td>&quot;6/5/2006 0:00:00&quot;</td></tr><tr><td>79</td><td>6</td><td>2</td><td>3.0</td><td>2006-06-23</td><td>&quot;6/23/2006 0:00:00&quot;</td><td>&quot;6/23/2006 0:00:00&quot;</td></tr><tr><td>80</td><td>4</td><td>2</td><td>null</td><td>2006-04-25</td><td>null</td><td>null</td></tr><tr><td>81</td><td>3</td><td>2</td><td>null</td><td>2006-04-25</td><td>null</td><td>null</td></tr></tbody></table></div>"
            ],
            "text/plain": [
              "shape: (48, 7)\n",
              "┌──────────┬─────────────┬─────────────┬────────────┬────────────┬─────────────────────┬───────────┐\n",
              "│ order_id ┆ customer_id ┆ employee_id ┆ shipper_id ┆ order_date ┆ shipped_date        ┆ paid_date │\n",
              "│ ---      ┆ ---         ┆ ---         ┆ ---        ┆ ---        ┆ ---                 ┆ ---       │\n",
              "│ i64      ┆ i64         ┆ i64         ┆ f64        ┆ date       ┆ str                 ┆ str       │\n",
              "╞══════════╪═════════════╪═════════════╪════════════╪════════════╪═════════════════════╪═══════════╡\n",
              "│ 30       ┆ 27          ┆ 9           ┆ 2.0        ┆ 2006-01-15 ┆ 1/22/2006 0:00:00   ┆ 1/15/2006 │\n",
              "│          ┆             ┆             ┆            ┆            ┆                     ┆ 0:00:00   │\n",
              "│ 31       ┆ 4           ┆ 3           ┆ 1.0        ┆ 2006-01-20 ┆ 1/22/2006 0:00:00   ┆ 1/20/2006 │\n",
              "│          ┆             ┆             ┆            ┆            ┆                     ┆ 0:00:00   │\n",
              "│ 32       ┆ 12          ┆ 4           ┆ 2.0        ┆ 2006-01-22 ┆ 1/22/2006 0:00:00   ┆ 1/22/2006 │\n",
              "│          ┆             ┆             ┆            ┆            ┆                     ┆ 0:00:00   │\n",
              "│ 33       ┆ 8           ┆ 6           ┆ 3.0        ┆ 2006-01-30 ┆ 1/31/2006 0:00:00   ┆ 1/30/2006 │\n",
              "│          ┆             ┆             ┆            ┆            ┆                     ┆ 0:00:00   │\n",
              "│ 34       ┆ 4           ┆ 9           ┆ 3.0        ┆ 2006-02-06 ┆ 2/7/2006 0:00:00    ┆ 2/6/2006  │\n",
              "│          ┆             ┆             ┆            ┆            ┆                     ┆ 0:00:00   │\n",
              "│ …        ┆ …           ┆ …           ┆ …          ┆ …          ┆ …                   ┆ …         │\n",
              "│ 77       ┆ 26          ┆ 9           ┆ 3.0        ┆ 2006-06-05 ┆ 6/5/2006 0:00:00    ┆ 6/5/2006  │\n",
              "│          ┆             ┆             ┆            ┆            ┆                     ┆ 0:00:00   │\n",
              "│ 78       ┆ 29          ┆ 1           ┆ 2.0        ┆ 2006-06-05 ┆ 6/5/2006 0:00:00    ┆ 6/5/2006  │\n",
              "│          ┆             ┆             ┆            ┆            ┆                     ┆ 0:00:00   │\n",
              "│ 79       ┆ 6           ┆ 2           ┆ 3.0        ┆ 2006-06-23 ┆ 6/23/2006 0:00:00   ┆ 6/23/2006 │\n",
              "│          ┆             ┆             ┆            ┆            ┆                     ┆ 0:00:00   │\n",
              "│ 80       ┆ 4           ┆ 2           ┆ null       ┆ 2006-04-25 ┆ null                ┆ null      │\n",
              "│ 81       ┆ 3           ┆ 2           ┆ null       ┆ 2006-04-25 ┆ null                ┆ null      │\n",
              "└──────────┴─────────────┴─────────────┴────────────┴────────────┴─────────────────────┴───────────┘"
            ]
          },
          "execution_count": 52,
          "metadata": {},
          "output_type": "execute_result"
        }
      ],
      "source": [
        "stg_order = (stg_orders\n",
        "               .select(pl.col(['order_id', 'customer_id', 'employee_id', 'shipper_id',\n",
        "                'order_date', 'shipped_date', 'paid_date']))\n",
        "               .pipe(change_dtypedatetime,'order_date')\n",
        "               )\n",
        "stg_order"
      ]
    },
    {
      "cell_type": "code",
      "execution_count": null,
      "metadata": {
        "id": "OMS2VkVDA2oJ"
      },
      "outputs": [],
      "source": [
        "stg_orders_details_s = (stg_orders_details\n",
        "                    .select(pl.col(['order_id', 'product_id', 'status_id',\n",
        "                        'purchase_order_id', 'inventory_id', 'quantity', 'unit_price', 'discount']))\n",
        "               )"
      ]
    },
    {
      "cell_type": "code",
      "execution_count": null,
      "metadata": {
        "id": "RcalFmskA2oJ",
        "outputId": "9cb781f9-6b84-4aad-b10f-1f57c59232a8"
      },
      "outputs": [
        {
          "data": {
            "text/plain": [
              "LoadInfo(pipeline=<dlt.pipeline.pipeline.Pipeline object at 0x0000015202725810>, metrics={'1729340874.8795478': [{'started_at': DateTime(2024, 10, 19, 12, 27, 55, 526467, tzinfo=Timezone('UTC')), 'finished_at': DateTime(2024, 10, 19, 12, 27, 55, 837336, tzinfo=Timezone('UTC'))}]}, destination_type='dlt.destinations.duckdb', destination_displayable_credentials='duckdb:///d:\\\\DW_Pipline-Main\\\\load_northwind.duckdb', destination_name='duckdb', environment=None, staging_type=None, staging_name=None, staging_displayable_credentials=None, destination_fingerprint='', dataset_name='stg_northwind', loads_ids=['1729340874.8795478'], load_packages=[LoadPackageInfo(load_id='1729340874.8795478', package_path='C:\\\\Users\\\\Admin\\\\.dlt\\\\pipelines\\\\load_northwind\\\\load\\\\loaded\\\\1729340874.8795478', state='loaded', schema=Schema load_northwind at 1452070827280, schema_update={}, completed_at=DateTime(2024, 10, 19, 12, 27, 55, 800297, tzinfo=Timezone('UTC')), jobs={'new_jobs': [], 'completed_jobs': [LoadJobInfo(state='completed_jobs', file_path='C:\\\\Users\\\\Admin\\\\.dlt\\\\pipelines\\\\load_northwind\\\\load\\\\loaded\\\\1729340874.8795478\\\\completed_jobs\\\\stg_orders_details.f3e903cf61.0.parquet', file_size=8420, created_at=DateTime(2024, 10, 19, 12, 27, 54, 922177, tzinfo=Timezone('UTC')), elapsed=0.878119707107544, job_file_info=ParsedLoadJobFileName(table_name='stg_orders_details', file_id='f3e903cf61', retry_count=0, file_format='parquet'), failed_message=None)], 'failed_jobs': [], 'started_jobs': []})], first_run=False)"
            ]
          },
          "execution_count": 54,
          "metadata": {},
          "output_type": "execute_result"
        }
      ],
      "source": [
        "pipeline.run(stg_orders.to_pandas(), table_name='stg_orders', write_disposition='replace')\n",
        "pipeline.run(stg_orders_details.to_pandas(), table_name='stg_orders_details', write_disposition='replace')"
      ]
    },
    {
      "cell_type": "markdown",
      "metadata": {
        "id": "duh-PzT1A2oJ"
      },
      "source": [
        "## Create sales fact table and name it as 'fact_sales'"
      ]
    },
    {
      "cell_type": "code",
      "execution_count": null,
      "metadata": {
        "id": "mk01hhNMA2oJ"
      },
      "outputs": [],
      "source": [
        "stg_orders = manage_duckdb.read_duckdb_repo('load_northwind.duckdb','stg_northwind.stg_orders')\n",
        "stg_orders_details = manage_duckdb.read_duckdb_repo('load_northwind.duckdb','stg_northwind.stg_orders_details')"
      ]
    },
    {
      "cell_type": "code",
      "execution_count": null,
      "metadata": {
        "id": "StH8L1ISA2oJ",
        "outputId": "06791d94-b5da-4d0c-c3ba-528091a8f4be"
      },
      "outputs": [
        {
          "data": {
            "text/html": [
              "<div><style>\n",
              ".dataframe > thead > tr,\n",
              ".dataframe > tbody > tr {\n",
              "  text-align: right;\n",
              "  white-space: pre-wrap;\n",
              "}\n",
              "</style>\n",
              "<small>shape: (5, 33)</small><table border=\"1\" class=\"dataframe\"><thead><tr><th>order_id</th><th>employee_id</th><th>customer_id</th><th>order_date</th><th>shipped_date</th><th>shipper_id</th><th>ship_name</th><th>ship_address</th><th>ship_city</th><th>ship_state_province</th><th>ship_zip_postal_code</th><th>ship_country_region</th><th>shipping_fee</th><th>taxes</th><th>payment_type</th><th>paid_date</th><th>tax_rate</th><th>status_id</th><th>orderdetail_id</th><th>product_id</th><th>quantity</th><th>unit_price</th><th>discount</th><th>purchase_order_id</th><th>inventory_id</th><th>orderdetail_id_right</th><th>product_id_right</th><th>quantity_right</th><th>unit_price_right</th><th>discount_right</th><th>status_id_right</th><th>purchase_order_id_right</th><th>inventory_id_right</th></tr><tr><td>i64</td><td>i64</td><td>i64</td><td>str</td><td>str</td><td>f64</td><td>str</td><td>str</td><td>str</td><td>str</td><td>i64</td><td>str</td><td>i64</td><td>i64</td><td>str</td><td>str</td><td>i64</td><td>i64</td><td>i64</td><td>i64</td><td>i64</td><td>f64</td><td>i64</td><td>f64</td><td>f64</td><td>i64</td><td>i64</td><td>i64</td><td>f64</td><td>i64</td><td>i64</td><td>f64</td><td>f64</td></tr></thead><tbody><tr><td>30</td><td>9</td><td>27</td><td>&quot;1/15/2006 0:00:00&quot;</td><td>&quot;1/22/2006 0:00:00&quot;</td><td>2.0</td><td>&quot;Karen Toh&quot;</td><td>&quot;789 27th Street&quot;</td><td>&quot;Las Vegas&quot;</td><td>&quot;NV&quot;</td><td>99999</td><td>&quot;USA&quot;</td><td>200</td><td>0</td><td>&quot;Check&quot;</td><td>&quot;1/15/2006 0:00:00&quot;</td><td>0</td><td>3</td><td>null</td><td>null</td><td>null</td><td>null</td><td>null</td><td>null</td><td>null</td><td>28</td><td>80</td><td>30</td><td>3.5</td><td>0</td><td>2</td><td>null</td><td>63.0</td></tr><tr><td>30</td><td>9</td><td>27</td><td>&quot;1/15/2006 0:00:00&quot;</td><td>&quot;1/22/2006 0:00:00&quot;</td><td>2.0</td><td>&quot;Karen Toh&quot;</td><td>&quot;789 27th Street&quot;</td><td>&quot;Las Vegas&quot;</td><td>&quot;NV&quot;</td><td>99999</td><td>&quot;USA&quot;</td><td>200</td><td>0</td><td>&quot;Check&quot;</td><td>&quot;1/15/2006 0:00:00&quot;</td><td>0</td><td>3</td><td>null</td><td>null</td><td>null</td><td>null</td><td>null</td><td>null</td><td>null</td><td>27</td><td>34</td><td>100</td><td>14.0</td><td>0</td><td>2</td><td>96.0</td><td>83.0</td></tr><tr><td>31</td><td>3</td><td>4</td><td>&quot;1/20/2006 0:00:00&quot;</td><td>&quot;1/22/2006 0:00:00&quot;</td><td>1.0</td><td>&quot;Christina Lee&quot;</td><td>&quot;123 4th Street&quot;</td><td>&quot;New York&quot;</td><td>&quot;NY&quot;</td><td>99999</td><td>&quot;USA&quot;</td><td>5</td><td>0</td><td>&quot;Credit Card&quot;</td><td>&quot;1/20/2006 0:00:00&quot;</td><td>0</td><td>3</td><td>null</td><td>null</td><td>null</td><td>null</td><td>null</td><td>null</td><td>null</td><td>31</td><td>80</td><td>10</td><td>3.5</td><td>0</td><td>2</td><td>null</td><td>66.0</td></tr><tr><td>31</td><td>3</td><td>4</td><td>&quot;1/20/2006 0:00:00&quot;</td><td>&quot;1/22/2006 0:00:00&quot;</td><td>1.0</td><td>&quot;Christina Lee&quot;</td><td>&quot;123 4th Street&quot;</td><td>&quot;New York&quot;</td><td>&quot;NY&quot;</td><td>99999</td><td>&quot;USA&quot;</td><td>5</td><td>0</td><td>&quot;Credit Card&quot;</td><td>&quot;1/20/2006 0:00:00&quot;</td><td>0</td><td>3</td><td>null</td><td>null</td><td>null</td><td>null</td><td>null</td><td>null</td><td>null</td><td>29</td><td>7</td><td>10</td><td>30.0</td><td>0</td><td>2</td><td>null</td><td>64.0</td></tr><tr><td>31</td><td>3</td><td>4</td><td>&quot;1/20/2006 0:00:00&quot;</td><td>&quot;1/22/2006 0:00:00&quot;</td><td>1.0</td><td>&quot;Christina Lee&quot;</td><td>&quot;123 4th Street&quot;</td><td>&quot;New York&quot;</td><td>&quot;NY&quot;</td><td>99999</td><td>&quot;USA&quot;</td><td>5</td><td>0</td><td>&quot;Credit Card&quot;</td><td>&quot;1/20/2006 0:00:00&quot;</td><td>0</td><td>3</td><td>null</td><td>null</td><td>null</td><td>null</td><td>null</td><td>null</td><td>null</td><td>30</td><td>51</td><td>10</td><td>53.0</td><td>0</td><td>2</td><td>null</td><td>65.0</td></tr></tbody></table></div>"
            ],
            "text/plain": [
              "shape: (5, 33)\n",
              "┌──────────┬───────────┬───────────┬───────────┬───┬───────────┬───────────┬───────────┬───────────┐\n",
              "│ order_id ┆ employee_ ┆ customer_ ┆ order_dat ┆ … ┆ discount_ ┆ status_id ┆ purchase_ ┆ inventory │\n",
              "│ ---      ┆ id        ┆ id        ┆ e         ┆   ┆ right     ┆ _right    ┆ order_id_ ┆ _id_right │\n",
              "│ i64      ┆ ---       ┆ ---       ┆ ---       ┆   ┆ ---       ┆ ---       ┆ right     ┆ ---       │\n",
              "│          ┆ i64       ┆ i64       ┆ str       ┆   ┆ i64       ┆ i64       ┆ ---       ┆ f64       │\n",
              "│          ┆           ┆           ┆           ┆   ┆           ┆           ┆ f64       ┆           │\n",
              "╞══════════╪═══════════╪═══════════╪═══════════╪═══╪═══════════╪═══════════╪═══════════╪═══════════╡\n",
              "│ 30       ┆ 9         ┆ 27        ┆ 1/15/2006 ┆ … ┆ 0         ┆ 2         ┆ null      ┆ 63.0      │\n",
              "│          ┆           ┆           ┆ 0:00:00   ┆   ┆           ┆           ┆           ┆           │\n",
              "│ 30       ┆ 9         ┆ 27        ┆ 1/15/2006 ┆ … ┆ 0         ┆ 2         ┆ 96.0      ┆ 83.0      │\n",
              "│          ┆           ┆           ┆ 0:00:00   ┆   ┆           ┆           ┆           ┆           │\n",
              "│ 31       ┆ 3         ┆ 4         ┆ 1/20/2006 ┆ … ┆ 0         ┆ 2         ┆ null      ┆ 66.0      │\n",
              "│          ┆           ┆           ┆ 0:00:00   ┆   ┆           ┆           ┆           ┆           │\n",
              "│ 31       ┆ 3         ┆ 4         ┆ 1/20/2006 ┆ … ┆ 0         ┆ 2         ┆ null      ┆ 64.0      │\n",
              "│          ┆           ┆           ┆ 0:00:00   ┆   ┆           ┆           ┆           ┆           │\n",
              "│ 31       ┆ 3         ┆ 4         ┆ 1/20/2006 ┆ … ┆ 0         ┆ 2         ┆ null      ┆ 65.0      │\n",
              "│          ┆           ┆           ┆ 0:00:00   ┆   ┆           ┆           ┆           ┆           │\n",
              "└──────────┴───────────┴───────────┴───────────┴───┴───────────┴───────────┴───────────┴───────────┘"
            ]
          },
          "execution_count": 106,
          "metadata": {},
          "output_type": "execute_result"
        }
      ],
      "source": [
        "fact_sales = (stg_orders\n",
        "              .join(stg_orders_details, on='order_id', how='left',coalesce=True)\n",
        "              .pipe(add_timestamp, 'insertion_timestamp')\n",
        "              )\n",
        "fact_sales.head()"
      ]
    },
    {
      "cell_type": "code",
      "execution_count": null,
      "metadata": {
        "id": "vgMBz2SwA2oK",
        "outputId": "e13e66ba-4cc2-4609-9bef-7103ea2a7136"
      },
      "outputs": [
        {
          "data": {
            "text/plain": [
              "LoadInfo(pipeline=<dlt.pipeline.pipeline.Pipeline object at 0x0000015202725810>, metrics={'1729343212.7022474': [{'started_at': DateTime(2024, 10, 19, 13, 6, 53, 466841, tzinfo=Timezone('UTC')), 'finished_at': DateTime(2024, 10, 19, 13, 6, 53, 971173, tzinfo=Timezone('UTC'))}]}, destination_type='dlt.destinations.duckdb', destination_displayable_credentials='duckdb:///d:\\\\DW_Pipline-Main\\\\load_northwind.duckdb', destination_name='duckdb', environment=None, staging_type=None, staging_name=None, staging_displayable_credentials=None, destination_fingerprint='', dataset_name='stg_northwind', loads_ids=['1729343212.7022474'], load_packages=[LoadPackageInfo(load_id='1729343212.7022474', package_path='C:\\\\Users\\\\Admin\\\\.dlt\\\\pipelines\\\\load_northwind\\\\load\\\\loaded\\\\1729343212.7022474', state='loaded', schema=Schema load_northwind at 1452224557072, schema_update={}, completed_at=DateTime(2024, 10, 19, 13, 6, 53, 927435, tzinfo=Timezone('UTC')), jobs={'new_jobs': [], 'completed_jobs': [LoadJobInfo(state='completed_jobs', file_path='C:\\\\Users\\\\Admin\\\\.dlt\\\\pipelines\\\\load_northwind\\\\load\\\\loaded\\\\1729343212.7022474\\\\completed_jobs\\\\face_sales.03998b519c.0.parquet', file_size=25928, created_at=DateTime(2024, 10, 19, 13, 6, 52, 768904, tzinfo=Timezone('UTC')), elapsed=1.1585304737091064, job_file_info=ParsedLoadJobFileName(table_name='face_sales', file_id='03998b519c', retry_count=0, file_format='parquet'), failed_message=None)], 'failed_jobs': [], 'started_jobs': []})], first_run=False)"
            ]
          },
          "execution_count": 98,
          "metadata": {},
          "output_type": "execute_result"
        }
      ],
      "source": [
        "pipeline.run(fact_sales.to_pandas(), table_name='face_sales', write_disposition='replace')"
      ]
    },
    {
      "cell_type": "markdown",
      "metadata": {
        "id": "3w0n3YKUA2oK"
      },
      "source": [
        "# Data cude"
      ]
    },
    {
      "cell_type": "code",
      "execution_count": null,
      "metadata": {
        "id": "Btw2uyQsA2oK"
      },
      "outputs": [],
      "source": [
        "dim_date_polars = pl.from_pandas(dim_date)"
      ]
    },
    {
      "cell_type": "code",
      "execution_count": null,
      "metadata": {
        "id": "bmfqbG0IA2oK",
        "outputId": "75a521c7-ad0a-4e44-f1c9-198a3719ef6b"
      },
      "outputs": [
        {
          "name": "stdout",
          "output_type": "stream",
          "text": [
            "[Int64, Int64, Int64, String, String, Float64, String, String, String, String, Int64, String, Int64, Int64, String, String, Int64, Int64, Int64, Int64, Int64, Float64, Int64, Float64, Float64, Int64, Int64, Int64, Float64, Int64, Int64, Float64, Float64]\n",
            "[Int64, String, String, String, String, String, String, String, String, String, String, String, String, Int64, String, String, String, String]\n",
            "[String, Datetime(time_unit='ms', time_zone=None), Int32, Int8, Int16, Int32, Int8, String, String, String, Boolean]\n"
          ]
        }
      ],
      "source": [
        "print(fact_sales.dtypes)\n",
        "print(stg_customer.dtypes)\n",
        "print(dim_date_polars.dtypes)\n"
      ]
    },
    {
      "cell_type": "code",
      "execution_count": null,
      "metadata": {
        "id": "SijiyaHJA2oK"
      },
      "outputs": [],
      "source": [
        "fact_sales = fact_sales.with_columns(\n",
        "    pl.col(\"order_date\").str.strptime(pl.Datetime, \"%m/%d/%Y %H:%M:%S\")\n",
        ")"
      ]
    },
    {
      "cell_type": "code",
      "execution_count": null,
      "metadata": {
        "id": "cvQ8ehL0A2oK"
      },
      "outputs": [],
      "source": [
        "fact_sales = fact_sales.with_columns(\n",
        "    pl.col(\"order_date\").cast(pl.Datetime(time_unit='ms'))\n",
        ")"
      ]
    },
    {
      "cell_type": "code",
      "execution_count": null,
      "metadata": {
        "id": "PQ5zRtmHA2oK"
      },
      "outputs": [],
      "source": [
        "datacube1 = (fact_sales\n",
        "            .select(pl.col('order_id','customer_id','order_date','unit_price','quantity'))\n",
        "            .join(stg_customer,on='customer_id',how='left',coalesce=True)\n",
        "            .join(dim_date_polars,on='order_date',how = 'left',coalesce=True)\n",
        ")"
      ]
    },
    {
      "cell_type": "code",
      "execution_count": null,
      "metadata": {
        "id": "VPLsfjgJA2oK",
        "outputId": "72ec742e-ce0c-40fd-e641-6715088967e6"
      },
      "outputs": [
        {
          "name": "stdout",
          "output_type": "stream",
          "text": [
            "shape: (39, 4)\n",
            "┌────────────────┬─────────────┬────────────┬───────────────────┐\n",
            "│ city           ┆ fiscal_year ┆ month_name ┆ total_order_sales │\n",
            "│ ---            ┆ ---         ┆ ---        ┆ ---               │\n",
            "│ str            ┆ i32         ┆ str        ┆ i64               │\n",
            "╞════════════════╪═════════════╪════════════╪═══════════════════╡\n",
            "│ Memphis        ┆ 2006        ┆ June       ┆ 0                 │\n",
            "│ New York       ┆ null        ┆ null       ┆ 0                 │\n",
            "│ Los Angelas    ┆ 2006        ┆ February   ┆ 0                 │\n",
            "│ Boise          ┆ 2006        ┆ March      ┆ 0                 │\n",
            "│ Denver         ┆ 2006        ┆ June       ┆ 0                 │\n",
            "│ …              ┆ …           ┆ …          ┆ …                 │\n",
            "│ New York       ┆ 2006        ┆ February   ┆ 0                 │\n",
            "│ Portland       ┆ 2006        ┆ June       ┆ 0                 │\n",
            "│ New York       ┆ 2006        ┆ April      ┆ 0                 │\n",
            "│ Salt Lake City ┆ 2006        ┆ June       ┆ 0                 │\n",
            "│ Boise          ┆ 2006        ┆ May        ┆ 0                 │\n",
            "└────────────────┴─────────────┴────────────┴───────────────────┘\n"
          ]
        },
        {
          "name": "stderr",
          "output_type": "stream",
          "text": [
            "C:\\Users\\Admin\\AppData\\Local\\Temp\\ipykernel_2992\\1114274306.py:1: DeprecationWarning: `groupby` is deprecated. It has been renamed to `group_by`.\n",
            "  rollup_quantity = datacube1.groupby(['city','fiscal_year','month_name']).agg(pl.col('quantity').sum().alias('total_order_sales'))\n"
          ]
        }
      ],
      "source": [
        "rollup_quantity = datacube1.groupby(['city','fiscal_year','month_name']).agg(pl.col('quantity').sum().alias('total_order_sales'))\n",
        "print(rollup_quantity)"
      ]
    },
    {
      "cell_type": "markdown",
      "metadata": {
        "id": "oxINrl0DA2oL"
      },
      "source": [
        "# streamlit"
      ]
    },
    {
      "cell_type": "markdown",
      "metadata": {
        "id": "X6d2X77IA2oL"
      },
      "source": [
        "Example code"
      ]
    },
    {
      "cell_type": "markdown",
      "metadata": {
        "id": "MExpk67JA2oL"
      },
      "source": [
        "\n",
        "```\n",
        "import streamlit as st\n",
        "import pandas as pd\n",
        "import plotly.express as px\n",
        "\n",
        "# Sample sales data with two measures (sales and quantity)\n",
        "data = pd.DataFrame({\n",
        "'region': ['North America', 'North America', 'North America', 'South America', 'South America', 'Europe', 'Europe', 'Asia', 'Asia'],\n",
        "'country': ['USA', 'Canada', 'Mexico', 'Brazil', 'Argentina', 'Germany', 'France', 'China', 'India'],\n",
        "'product': ['A', 'A', 'B', 'B', 'C', 'C', 'D', 'D', 'E'],\n",
        "'sales': [100, 150, 200, 250, 300, 350, 400, 450, 500],\n",
        "'quantity': [10, 15, 20, 25, 30, 35, 40, 45, 50]\n",
        "})\n",
        "\n",
        "# Title of the dashboard\n",
        "st.title('Sales Data Cube Viewer Dashboard')\n",
        "\n",
        "st.sidebar.header('Filter Options')\n",
        "region_filter = st.sidebar.multiselect('Select Region(s):', options=data['region'].unique(), default=data['region'].unique())\n",
        "country_filter = st.sidebar.multiselect('Select Country(s):', options=data['country'].unique(), default=data['country'].unique())\n",
        "product_filter = st.sidebar.multiselect('Select Product(s):', options=data['product'].unique(), default=data['product'].unique())\n",
        "\n",
        "# Applying filters to the data\n",
        "filtered_data = data[\n",
        "(data['region'].isin(region_filter)) &\n",
        "(data['country'].isin(country_filter)) &\n",
        "(data['product'].isin(product_filter))\n",
        "]\n",
        "\n",
        "st.header('Sales Data Visualization')\n",
        "\n",
        "# Aggregation\n",
        "agg_data = filtered_data.groupby(['region', 'country', 'product']).sum().reset_index()\n",
        "\n",
        "# Sunburst Chart for Sales\n",
        "st.subheader('Sales by Region, Country, and Product (Sunburst Chart)')\n",
        "sunburst_sales = px.sunburst(\n",
        "agg_data,\n",
        "path=['region', 'country', 'product'],\n",
        "values='sales',\n",
        "title='Sales by Region, Country, and Product'\n",
        ")\n",
        "st.plotly_chart(sunburst_sales)\n",
        "\n",
        "# Treemap Chart for Quantity\n",
        "st.subheader('Quantity by Region, Country, and Product (Treemap Chart)')\n",
        "treemap_quantity = px.treemap(\n",
        "agg_data,\n",
        "path=['region', 'country', 'product'],\n",
        "values='quantity',\n",
        "title='Quantity by Region, Country, and Product'\n",
        ")\n",
        "st.plotly_chart(treemap_quantity)\n",
        "\n",
        "# Bar Chart for both Sales and Quantity\n",
        "st.subheader('Sales and Quantity by Country and Product')\n",
        "bar_sales_quantity = px.bar(\n",
        "agg_data,\n",
        "x='country',\n",
        "y=['sales', 'quantity'],\n",
        "color='product',\n",
        "title='Sales and Quantity by Country and Product',\n",
        "barmode='group'\n",
        ")\n",
        "st.plotly_chart(bar_sales_quantity)\n",
        "\n",
        "# Display filtered aggregated data table\n",
        "st.header('Aggregated Filtered Data')\n",
        "st.write(agg_data)\n",
        "\n",
        "if st.sidebar.button('Show Info'):\n",
        "st.sidebar.write('This is a demo of a hierarchical data visualization using Streamlit and Plotly, showing Sales and Quantity by Region and Product.')\n",
        "```"
      ]
    },
    {
      "cell_type": "code",
      "execution_count": null,
      "metadata": {
        "id": "3v7l6QKyA2oL",
        "outputId": "38865ee0-fefa-4aec-db44-b484f29469c7"
      },
      "outputs": [
        {
          "name": "stderr",
          "output_type": "stream",
          "text": [
            "2024-10-19 20:37:32.290 Thread 'MainThread': missing ScriptRunContext! This warning can be ignored when running in bare mode.\n",
            "2024-10-19 20:37:32.304 Thread 'MainThread': missing ScriptRunContext! This warning can be ignored when running in bare mode.\n",
            "2024-10-19 20:37:32.311 Thread 'MainThread': missing ScriptRunContext! This warning can be ignored when running in bare mode.\n",
            "2024-10-19 20:37:32.312 Thread 'MainThread': missing ScriptRunContext! This warning can be ignored when running in bare mode.\n",
            "2024-10-19 20:37:32.315 Thread 'MainThread': missing ScriptRunContext! This warning can be ignored when running in bare mode.\n",
            "2024-10-19 20:37:32.317 Thread 'MainThread': missing ScriptRunContext! This warning can be ignored when running in bare mode.\n",
            "2024-10-19 20:37:32.318 Thread 'MainThread': missing ScriptRunContext! This warning can be ignored when running in bare mode.\n",
            "2024-10-19 20:37:32.322 Thread 'MainThread': missing ScriptRunContext! This warning can be ignored when running in bare mode.\n",
            "2024-10-19 20:37:32.329 Thread 'MainThread': missing ScriptRunContext! This warning can be ignored when running in bare mode.\n",
            "2024-10-19 20:37:32.332 Thread 'MainThread': missing ScriptRunContext! This warning can be ignored when running in bare mode.\n",
            "2024-10-19 20:37:32.334 Thread 'MainThread': missing ScriptRunContext! This warning can be ignored when running in bare mode.\n",
            "2024-10-19 20:37:32.336 Thread 'MainThread': missing ScriptRunContext! This warning can be ignored when running in bare mode.\n",
            "2024-10-19 20:37:32.338 Thread 'MainThread': missing ScriptRunContext! This warning can be ignored when running in bare mode.\n",
            "2024-10-19 20:37:32.339 Thread 'MainThread': missing ScriptRunContext! This warning can be ignored when running in bare mode.\n"
          ]
        }
      ],
      "source": [
        "import streamlit as st\n",
        "import pandas as pd\n",
        "import numpy as np\n",
        "\n",
        "st.title('My first web application Who :cat: ')\n",
        "st.write('please selects the checkbox list:')\n",
        "a1 = st.checkbox(label ='A')\n",
        "a2 = st.checkbox(label ='B')\n",
        "if a1:\n",
        "    st.write('my selrction is A')\n",
        "if a2:\n",
        "    st.write('my selection is B')"
      ]
    },
    {
      "cell_type": "markdown",
      "metadata": {
        "id": "4bfQgHY5A2oL"
      },
      "source": [
        "# Lenrn more Streamlit and apply to my project from\n",
        "https://docs.streamlit.io/"
      ]
    },
    {
      "cell_type": "markdown",
      "metadata": {
        "id": "AQvZ7Gv7A2oL"
      },
      "source": [
        "# Link to my GitHub\n",
        "https://github.com/BxMild/Data-warehouse-2024"
      ]
    }
  ],
  "metadata": {
    "kernelspec": {
      "display_name": "base",
      "language": "python",
      "name": "python3"
    },
    "language_info": {
      "codemirror_mode": {
        "name": "ipython",
        "version": 3
      },
      "file_extension": ".py",
      "mimetype": "text/x-python",
      "name": "python",
      "nbconvert_exporter": "python",
      "pygments_lexer": "ipython3",
      "version": "3.11.7"
    },
    "colab": {
      "provenance": [],
      "toc_visible": true,
      "include_colab_link": true
    }
  },
  "nbformat": 4,
  "nbformat_minor": 0
}